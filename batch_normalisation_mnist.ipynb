{
  "cells": [
    {
      "cell_type": "markdown",
      "metadata": {
        "id": "view-in-github",
        "colab_type": "text"
      },
      "source": [
        "<a href=\"https://colab.research.google.com/github/Vivek-84/ANN_Callback-Keras/blob/main/batch_normalisation_mnist.ipynb\" target=\"_parent\"><img src=\"https://colab.research.google.com/assets/colab-badge.svg\" alt=\"Open In Colab\"/></a>"
      ]
    },
    {
      "cell_type": "markdown",
      "metadata": {
        "id": "5HwplHsTXWFw"
      },
      "source": [
        "1. Theory and Concepts"
      ]
    },
    {
      "cell_type": "markdown",
      "metadata": {
        "id": "vOEjIB5lXvyM"
      },
      "source": [
        "Explain the concept of batch normalization in the context of Artificial Neural Networks."
      ]
    },
    {
      "cell_type": "markdown",
      "metadata": {
        "id": "d9bXbR29Ym2S"
      },
      "source": [
        "Batch Normalization (BN) is a technique used in Artificial Neural Networks (ANNs) to improve the training speed and stability of deep neural networks. It was introduced by Sergey Ioffe and Christian Szegedy in their 2015 paper titled \"Batch Normalization: Accelerating Deep Network Training by Reducing Internal Covariate Shift.\"\n",
        "\n",
        "The main idea behind Batch Normalization is to normalize the inputs of each layer in a neural network during training. The normalization is performed across mini-batches of data, hence the name \"batch\" normalization. The normalization process involves the following steps:\n",
        "\n",
        "1. **Compute Batch Mean and Variance:**\n",
        "   For each mini-batch of data, compute the mean and variance of the activations across all the examples in the batch.\n",
        "\n",
        "2. **Normalize the Activations:**\n",
        "   Normalize the activations of the current layer by subtracting the mean and dividing by the standard deviation (after adding a small constant for numerical stability).\n",
        "\n",
        "3. **Scale and Shift:**\n",
        "   Introduce two additional learnable parameters, γ (gamma) and β (beta), for each normalized activation. These parameters allow the network to learn the optimal scale and shift for the normalized activations.\n",
        "\n",
        "4. **Update during Training:**\n",
        "   During training, the mean and variance are computed using the current mini-batch, and the moving averages are updated. This helps the model adapt to the changing distribution of the data over time.\n",
        "\n",
        "The batch normalization process has several advantages:\n",
        "\n",
        "- **Stabilizes Training:**\n",
        "  Batch Normalization helps in reducing the internal covariate shift, which refers to the change in the distribution of the network activations during training. This stabilization often results in faster and more stable convergence.\n",
        "\n",
        "- **Allows Higher Learning Rates:**\n",
        "  The normalization of inputs makes it possible to use higher learning rates during training, which can speed up the convergence of the model.\n",
        "\n",
        "- **Reduces Sensitivity to Initialization:**\n",
        "  Batch Normalization reduces the sensitivity of a network to the choice of weight initialization. This can be particularly beneficial when dealing with deep networks.\n",
        "\n",
        "- **Acts as Regularization:**\n",
        "  The normalization process has a slight regularization effect, which can reduce the need for other regularization techniques like dropout.\n",
        "\n",
        "Batch Normalization is commonly applied to the input of each layer or to the output of fully connected or convolutional layers. It has become a standard component in the training of deep neural networks and is widely used in various architectures."
      ]
    },
    {
      "cell_type": "markdown",
      "metadata": {
        "id": "FfeXP8QNYxPA"
      },
      "source": [
        "Describe the benefits of using batch normalization during training."
      ]
    },
    {
      "cell_type": "markdown",
      "metadata": {
        "id": "j2vckOduaNrp"
      },
      "source": [
        "Batch Normalization (BN) offers several benefits during the training of neural networks, contributing to faster convergence, improved stability, and better generalization. Here are the key advantages of using batch normalization:\n",
        "\n",
        "1. **Accelerated Training Convergence:**\n",
        "   Batch Normalization reduces internal covariate shift by normalizing the activations, making the optimization landscape more well-behaved. This often leads to faster convergence during training. Networks with BN layers tend to require fewer training iterations to reach a certain level of performance.\n",
        "\n",
        "2. **Stabilization of Training:**\n",
        "   Internal covariate shift, the change in the distribution of the network activations during training, can slow down the training process. Batch Normalization mitigates this shift by normalizing the inputs, making the training more stable and robust. This stability allows the use of higher learning rates, further accelerating training.\n",
        "\n",
        "3. **Reduced Sensitivity to Weight Initialization:**\n",
        "   Batch Normalization reduces the sensitivity of a neural network to the choice of weight initialization. This is particularly beneficial in deep networks where getting the initialization right can be challenging. The normalization process allows for more flexibility in choosing initial weights, making it easier to train deep architectures.\n",
        "\n",
        "4. **Mitigation of Vanishing and Exploding Gradients:**\n",
        "   Batch Normalization helps in addressing the vanishing and exploding gradient problems, which are common issues in deep networks. By normalizing the inputs, BN helps maintain a stable scale of activations throughout the network, preventing gradients from becoming too small or too large.\n",
        "\n",
        "5. **Enabling Higher Learning Rates:**\n",
        "   With the stabilized training and reduced sensitivity to initialization, Batch Normalization allows the use of higher learning rates. This is advantageous as higher learning rates can speed up the convergence of the model, enabling it to reach a good solution more quickly.\n",
        "\n",
        "6. **Regularization Effect:**\n",
        "   Batch Normalization has a slight regularization effect due to the introduction of the learnable scale and shift parameters (γ and β). This can reduce the need for other regularization techniques, such as dropout, and help prevent overfitting.\n",
        "\n",
        "7. **Improved Generalization:**\n",
        "   The normalization of activations helps improve the generalization performance of the model. By normalizing the inputs across mini-batches, BN encourages the model to learn features that are more invariant to variations in the input distribution, leading to better generalization to unseen data.\n",
        "\n",
        "8. **Compatibility with Various Architectures:**\n",
        "   Batch Normalization is a versatile technique that can be applied to different types of layers, including fully connected layers, convolutional layers, and recurrent layers. Its compatibility with various architectures makes it a widely adopted normalization technique in modern neural networks.\n",
        "\n",
        "In summary, Batch Normalization plays a crucial role in improving the efficiency and effectiveness of training deep neural networks by addressing common challenges associated with internal covariate shift, vanishing/exploding gradients, and sensitivity to weight initialization."
      ]
    },
    {
      "cell_type": "markdown",
      "metadata": {
        "id": "q3SilSz_apCy"
      },
      "source": [
        "Discuss the working principle of batch normalization, including the normalization step and the learnable\n",
        "parameters."
      ]
    },
    {
      "cell_type": "markdown",
      "metadata": {
        "id": "irBqBvAGbDvM"
      },
      "source": [
        "The working principle of Batch Normalization (BN) involves normalizing the inputs of each layer in a neural network during training. The normalization is performed across mini-batches of data, and the process includes both normalization and the introduction of learnable parameters. Let's break down the key steps:\n",
        "\n",
        "### 1. Normalization Step:\n",
        "\n",
        "For each mini-batch of data during training, the normalization step involves the following:\n",
        "\n",
        "#### a. Compute Batch Mean and Variance:\n",
        "   - Compute the mean (\\(\\mu_B\\)) and variance (\\(\\sigma_B^2\\)) of the activations across all the examples in the mini-batch.\n",
        "\n",
        "#### b. Normalize Activations:\n",
        "   - Normalize the activations (\\(x_i\\)) of the current layer using the batch mean and variance:\n",
        "     \\[ \\hat{x}_i = \\frac{x_i - \\mu_B}{\\sqrt{\\sigma_B^2 + \\epsilon}} \\]\n",
        "   Here, \\(\\epsilon\\) is a small constant added for numerical stability.\n",
        "\n",
        "#### c. Scale and Shift:\n",
        "   - Introduce two learnable parameters for each normalized activation: \\( \\gamma \\) (gamma) and \\( \\beta \\) (beta).\n",
        "   - Scale and shift the normalized activations:\n",
        "     \\[ y_i = \\gamma \\hat{x}_i + \\beta \\]\n",
        "   The parameters \\( \\gamma \\) and \\( \\beta \\) allow the network to learn the optimal scale and shift for the normalized activations.\n",
        "\n",
        "### 2. Learnable Parameters:\n",
        "\n",
        "#### a. Scale Parameter (\\( \\gamma \\)):\n",
        "   - \\( \\gamma \\) is a learnable parameter that scales the normalized activations.\n",
        "   - It allows the network to learn whether to amplify or diminish the normalized values based on the needs of the task.\n",
        "\n",
        "#### b. Shift Parameter (\\( \\beta \\)):\n",
        "   - \\( \\beta \\) is a learnable parameter that shifts the normalized activations.\n",
        "   - It allows the network to learn an optimal bias or offset for the normalized values.\n",
        "\n",
        "### 3. Update during Training:\n",
        "\n",
        "During training, the mean ((mu)) and variance ((sigma^2\\)) are computed using the current mini-batch. Additionally, moving averages of the mean and variance are maintained across mini-batches. The moving averages are used during inference to normalize inputs consistently.\n",
        "\n",
        "The normalization and learnable parameters are applied independently to each input channel, feature map, or neuron, depending on the layer's type.\n",
        "\n",
        "### 4. Batch Normalization during Inference:\n",
        "\n",
        "During inference (or testing), the learned moving averages of mean and variance are used for normalization. The scale (\\( \\gamma \\)) and shift (\\( \\beta \\)) parameters, learned during training, are applied to the normalized inputs.\n",
        "\n",
        "### Benefits:\n",
        "\n",
        "- **Stabilization:** Batch Normalization helps stabilize training by reducing internal covariate shift, resulting in faster convergence.\n",
        "  \n",
        "- **Regularization:** The learnable parameters ( gamma ) and ( beta ) introduce a slight regularization effect, reducing the need for additional regularization techniques.\n",
        "\n",
        "- **Flexibility:** Batch Normalization is applicable to various layer types, including fully connected, convolutional, and recurrent layers.\n",
        "\n",
        "Batch Normalization has become a standard component in the training of deep neural networks due to its effectiveness in addressing training challenges and improving the convergence and generalization of models."
      ]
    },
    {
      "cell_type": "markdown",
      "metadata": {
        "id": "cZzOqt0hdGPi"
      },
      "source": [
        "2. Implementation"
      ]
    },
    {
      "cell_type": "markdown",
      "metadata": {
        "id": "xGa0P6A7g0hs"
      },
      "source": [
        "Choose a dataset of your choice(MNIST) and preprocess it."
      ]
    },
    {
      "cell_type": "code",
      "execution_count": null,
      "metadata": {
        "id": "_XM4QcpTg1XY"
      },
      "outputs": [],
      "source": [
        "import warnings\n",
        "warnings.filterwarnings(\"ignore\")\n",
        "import pandas as pd\n",
        "import numpy as np\n",
        "import matplotlib.pyplot as plt\n",
        "import tensorflow as tf\n",
        "import os\n",
        "import seaborn as sns\n",
        "import keras\n",
        "from keras.models import Sequential\n",
        "from keras.layers import Dense,Flatten,BatchNormalization,Dropout\n",
        "from keras.layers import LeakyReLU,Conv2D,MaxPooling2D,AveragePooling2D\n",
        "from keras import regularizers\n",
        "import time"
      ]
    },
    {
      "cell_type": "code",
      "source": [
        "# Loading Mnist dataset from tensorflow\n",
        "mnist = tf.keras.datasets.mnist\n",
        "(x_train_full, y_train_full) , (x_test, y_test) = mnist.load_data()\n"
      ],
      "metadata": {
        "id": "pHEJDi_MIJUP"
      },
      "execution_count": null,
      "outputs": []
    },
    {
      "cell_type": "code",
      "source": [
        "# Shape of Mnist dataset\n",
        "print(x_train_full.shape) # Training data shape\n",
        "print(x_test.shape) # Testing data shape\n"
      ],
      "metadata": {
        "colab": {
          "base_uri": "https://localhost:8080/"
        },
        "id": "eYUFJyDvIOSf",
        "outputId": "568d147c-458b-4945-98bf-da1832b799aa"
      },
      "execution_count": null,
      "outputs": [
        {
          "output_type": "stream",
          "name": "stdout",
          "text": [
            "(60000, 28, 28)\n",
            "(10000, 28, 28)\n"
          ]
        }
      ]
    },
    {
      "cell_type": "code",
      "source": [
        "# There are 60000 image of handwritten digits and each image has resolution 28*28 which is equal to 784 pixels"
      ],
      "metadata": {
        "id": "7ZjU0_aPISYi"
      },
      "execution_count": null,
      "outputs": []
    },
    {
      "cell_type": "code",
      "source": [
        "# Here is some example\n",
        "k = 5\n",
        "plt.figure(figsize=(15,5))\n",
        "for i in range(1,k+1):\n",
        " plt.subplot(1,k,i)\n",
        " idx = int(np.random.randint(0,60000,1))\n",
        " plt.imshow(x_train_full[idx], cmap=\"binary\")\n",
        "plt.show()"
      ],
      "metadata": {
        "colab": {
          "base_uri": "https://localhost:8080/",
          "height": 263
        },
        "id": "w5-wd85kIddD",
        "outputId": "7c773b74-5cc7-4cae-fe6d-11afd63b4e31"
      },
      "execution_count": null,
      "outputs": [
        {
          "output_type": "display_data",
          "data": {
            "text/plain": [
              "<Figure size 1500x500 with 5 Axes>"
            ],
            "image/png": "[encoded data removed]"
          },
          "metadata": {}
        }
      ]
    },
    {
      "cell_type": "code",
      "source": [
        "x_train_full[0] # Image at \"0\" index\n"
      ],
      "metadata": {
        "colab": {
          "base_uri": "https://localhost:8080/"
        },
        "id": "tnXO1OEKIlxw",
        "outputId": "5deb495e-fc0b-4915-b6ff-92dedc3dde85"
      },
      "execution_count": null,
      "outputs": [
        {
          "output_type": "execute_result",
          "data": {
            "text/plain": [
              "array([[  0,   0,   0,   0,   0,   0,   0,   0,   0,   0,   0,   0,   0,\n",
              "          0,   0,   0,   0,   0,   0,   0,   0,   0,   0,   0,   0,   0,\n",
              "          0,   0],\n",
              "       [  0,   0,   0,   0,   0,   0,   0,   0,   0,   0,   0,   0,   0,\n",
              "          0,   0,   0,   0,   0,   0,   0,   0,   0,   0,   0,   0,   0,\n",
              "          0,   0],\n",
              "       [  0,   0,   0,   0,   0,   0,   0,   0,   0,   0,   0,   0,   0,\n",
              "          0,   0,   0,   0,   0,   0,   0,   0,   0,   0,   0,   0,   0,\n",
              "          0,   0],\n",
              "       [  0,   0,   0,   0,   0,   0,   0,   0,   0,   0,   0,   0,   0,\n",
              "          0,   0,   0,   0,   0,   0,   0,   0,   0,   0,   0,   0,   0,\n",
              "          0,   0],\n",
              "       [  0,   0,   0,   0,   0,   0,   0,   0,   0,   0,   0,   0,   0,\n",
              "          0,   0,   0,   0,   0,   0,   0,   0,   0,   0,   0,   0,   0,\n",
              "          0,   0],\n",
              "       [  0,   0,   0,   0,   0,   0,   0,   0,   0,   0,   0,   0,   3,\n",
              "         18,  18,  18, 126, 136, 175,  26, 166, 255, 247, 127,   0,   0,\n",
              "          0,   0],\n",
              "       [  0,   0,   0,   0,   0,   0,   0,   0,  30,  36,  94, 154, 170,\n",
              "        253, 253, 253, 253, 253, 225, 172, 253, 242, 195,  64,   0,   0,\n",
              "          0,   0],\n",
              "       [  0,   0,   0,   0,   0,   0,   0,  49, 238, 253, 253, 253, 253,\n",
              "        253, 253, 253, 253, 251,  93,  82,  82,  56,  39,   0,   0,   0,\n",
              "          0,   0],\n",
              "       [  0,   0,   0,   0,   0,   0,   0,  18, 219, 253, 253, 253, 253,\n",
              "        253, 198, 182, 247, 241,   0,   0,   0,   0,   0,   0,   0,   0,\n",
              "          0,   0],\n",
              "       [  0,   0,   0,   0,   0,   0,   0,   0,  80, 156, 107, 253, 253,\n",
              "        205,  11,   0,  43, 154,   0,   0,   0,   0,   0,   0,   0,   0,\n",
              "          0,   0],\n",
              "       [  0,   0,   0,   0,   0,   0,   0,   0,   0,  14,   1, 154, 253,\n",
              "         90,   0,   0,   0,   0,   0,   0,   0,   0,   0,   0,   0,   0,\n",
              "          0,   0],\n",
              "       [  0,   0,   0,   0,   0,   0,   0,   0,   0,   0,   0, 139, 253,\n",
              "        190,   2,   0,   0,   0,   0,   0,   0,   0,   0,   0,   0,   0,\n",
              "          0,   0],\n",
              "       [  0,   0,   0,   0,   0,   0,   0,   0,   0,   0,   0,  11, 190,\n",
              "        253,  70,   0,   0,   0,   0,   0,   0,   0,   0,   0,   0,   0,\n",
              "          0,   0],\n",
              "       [  0,   0,   0,   0,   0,   0,   0,   0,   0,   0,   0,   0,  35,\n",
              "        241, 225, 160, 108,   1,   0,   0,   0,   0,   0,   0,   0,   0,\n",
              "          0,   0],\n",
              "       [  0,   0,   0,   0,   0,   0,   0,   0,   0,   0,   0,   0,   0,\n",
              "         81, 240, 253, 253, 119,  25,   0,   0,   0,   0,   0,   0,   0,\n",
              "          0,   0],\n",
              "       [  0,   0,   0,   0,   0,   0,   0,   0,   0,   0,   0,   0,   0,\n",
              "          0,  45, 186, 253, 253, 150,  27,   0,   0,   0,   0,   0,   0,\n",
              "          0,   0],\n",
              "       [  0,   0,   0,   0,   0,   0,   0,   0,   0,   0,   0,   0,   0,\n",
              "          0,   0,  16,  93, 252, 253, 187,   0,   0,   0,   0,   0,   0,\n",
              "          0,   0],\n",
              "       [  0,   0,   0,   0,   0,   0,   0,   0,   0,   0,   0,   0,   0,\n",
              "          0,   0,   0,   0, 249, 253, 249,  64,   0,   0,   0,   0,   0,\n",
              "          0,   0],\n",
              "       [  0,   0,   0,   0,   0,   0,   0,   0,   0,   0,   0,   0,   0,\n",
              "          0,  46, 130, 183, 253, 253, 207,   2,   0,   0,   0,   0,   0,\n",
              "          0,   0],\n",
              "       [  0,   0,   0,   0,   0,   0,   0,   0,   0,   0,   0,   0,  39,\n",
              "        148, 229, 253, 253, 253, 250, 182,   0,   0,   0,   0,   0,   0,\n",
              "          0,   0],\n",
              "       [  0,   0,   0,   0,   0,   0,   0,   0,   0,   0,  24, 114, 221,\n",
              "        253, 253, 253, 253, 201,  78,   0,   0,   0,   0,   0,   0,   0,\n",
              "          0,   0],\n",
              "       [  0,   0,   0,   0,   0,   0,   0,   0,  23,  66, 213, 253, 253,\n",
              "        253, 253, 198,  81,   2,   0,   0,   0,   0,   0,   0,   0,   0,\n",
              "          0,   0],\n",
              "       [  0,   0,   0,   0,   0,   0,  18, 171, 219, 253, 253, 253, 253,\n",
              "        195,  80,   9,   0,   0,   0,   0,   0,   0,   0,   0,   0,   0,\n",
              "          0,   0],\n",
              "       [  0,   0,   0,   0,  55, 172, 226, 253, 253, 253, 253, 244, 133,\n",
              "         11,   0,   0,   0,   0,   0,   0,   0,   0,   0,   0,   0,   0,\n",
              "          0,   0],\n",
              "       [  0,   0,   0,   0, 136, 253, 253, 253, 212, 135, 132,  16,   0,\n",
              "          0,   0,   0,   0,   0,   0,   0,   0,   0,   0,   0,   0,   0,\n",
              "          0,   0],\n",
              "       [  0,   0,   0,   0,   0,   0,   0,   0,   0,   0,   0,   0,   0,\n",
              "          0,   0,   0,   0,   0,   0,   0,   0,   0,   0,   0,   0,   0,\n",
              "          0,   0],\n",
              "       [  0,   0,   0,   0,   0,   0,   0,   0,   0,   0,   0,   0,   0,\n",
              "          0,   0,   0,   0,   0,   0,   0,   0,   0,   0,   0,   0,   0,\n",
              "          0,   0],\n",
              "       [  0,   0,   0,   0,   0,   0,   0,   0,   0,   0,   0,   0,   0,\n",
              "          0,   0,   0,   0,   0,   0,   0,   0,   0,   0,   0,   0,   0,\n",
              "          0,   0]], dtype=uint8)"
            ]
          },
          "metadata": {},
          "execution_count": 37
        }
      ]
    },
    {
      "cell_type": "code",
      "source": [
        "y_train_full[0] # Number at \"0\" index\n"
      ],
      "metadata": {
        "colab": {
          "base_uri": "https://localhost:8080/"
        },
        "id": "O_5BrPliImyo",
        "outputId": "ec66dd80-e34a-4b07-e33a-0f959e39b3fa"
      },
      "execution_count": null,
      "outputs": [
        {
          "output_type": "execute_result",
          "data": {
            "text/plain": [
              "5"
            ]
          },
          "metadata": {},
          "execution_count": 38
        }
      ]
    },
    {
      "cell_type": "code",
      "source": [
        "# Converting the pixels value between 0 to 1\n",
        "x_valid, x_train = x_train_full[:5000]/255, x_train_full[5000:]/255\n",
        "y_valid, y_train = y_train_full[:5000], y_train_full[5000:]\n",
        "x_test = x_test/255\n"
      ],
      "metadata": {
        "id": "7WqieLtqIvKG"
      },
      "execution_count": null,
      "outputs": []
    },
    {
      "cell_type": "markdown",
      "source": [
        "Implement a simple feedforward neural network using any deep learning framework/library (e.g.,\n",
        "Tensorflow, PyTorch)"
      ],
      "metadata": {
        "id": "FrYhXS4DJCwr"
      }
    },
    {
      "cell_type": "code",
      "source": [
        "# Defining the layers\n",
        "LAYERS = [\n",
        " tf.keras.layers.Flatten(input_shape=[28,28],name=\"inputLayer\"),\n",
        " tf.keras.layers.Dense(300,activation=\"relu\",name=\"hiddenLayer1\"),\n",
        " tf.keras.layers.Dense(100,activation=\"relu\",name=\"hiddenLayer2\"),\n",
        " tf.keras.layers.Dense(10,activation=\"softmax\",name=\"outputLayer\")\n",
        "]\n",
        "model = tf.keras.models.Sequential(LAYERS)\n"
      ],
      "metadata": {
        "id": "TVQJkm45JK4m"
      },
      "execution_count": null,
      "outputs": []
    },
    {
      "cell_type": "code",
      "source": [
        "model.summary() # Summary of the model\n"
      ],
      "metadata": {
        "colab": {
          "base_uri": "https://localhost:8080/"
        },
        "id": "LtiPwGnPJxF_",
        "outputId": "8520fb58-e15b-4eec-a53b-3d3bf1404a68"
      },
      "execution_count": null,
      "outputs": [
        {
          "output_type": "stream",
          "name": "stdout",
          "text": [
            "Model: \"sequential_2\"\n",
            "_________________________________________________________________\n",
            " Layer (type)                Output Shape              Param #   \n",
            "=================================================================\n",
            " inputLayer (Flatten)        (None, 784)               0         \n",
            "                                                                 \n",
            " hiddenLayer1 (Dense)        (None, 300)               235500    \n",
            "                                                                 \n",
            " hiddenLayer2 (Dense)        (None, 100)               30100     \n",
            "                                                                 \n",
            " outputLayer (Dense)         (None, 10)                1010      \n",
            "                                                                 \n",
            "=================================================================\n",
            "Total params: 266610 (1.02 MB)\n",
            "Trainable params: 266610 (1.02 MB)\n",
            "Non-trainable params: 0 (0.00 Byte)\n",
            "_________________________________________________________________\n"
          ]
        }
      ]
    },
    {
      "cell_type": "code",
      "source": [
        "input_layer = model.layers[0]\n",
        "input_layer.get_weights()\n"
      ],
      "metadata": {
        "colab": {
          "base_uri": "https://localhost:8080/"
        },
        "id": "m22CizLCKA1-",
        "outputId": "f52a80fd-bc07-4344-9e86-2df5bd685682"
      },
      "execution_count": null,
      "outputs": [
        {
          "output_type": "execute_result",
          "data": {
            "text/plain": [
              "[]"
            ]
          },
          "metadata": {},
          "execution_count": 42
        }
      ]
    },
    {
      "cell_type": "code",
      "source": [
        "# Input layer has no weights"
      ],
      "metadata": {
        "id": "ivK6CFjGKEMv"
      },
      "execution_count": null,
      "outputs": []
    },
    {
      "cell_type": "code",
      "source": [
        "hidden1 = model.layers[1]\n",
        "hidden1.get_weights() # The weights of first hidden layer"
      ],
      "metadata": {
        "colab": {
          "base_uri": "https://localhost:8080/"
        },
        "id": "q_5Yd9EjKv_3",
        "outputId": "edd2ef87-8a1d-4bc1-a01c-3949c00ae670"
      },
      "execution_count": null,
      "outputs": [
        {
          "output_type": "execute_result",
          "data": {
            "text/plain": [
              "[array([[-2.1447539e-03, -7.0880234e-02, -7.2773233e-02, ...,\n",
              "          7.2414190e-02, -6.6001475e-02, -4.3234579e-02],\n",
              "        [-4.8865110e-02, -7.1376562e-05,  3.5336271e-02, ...,\n",
              "         -3.0936483e-02, -1.5900601e-02,  6.3845962e-03],\n",
              "        [-3.2321736e-03,  9.1256797e-03,  7.0472792e-02, ...,\n",
              "         -4.5356773e-02,  1.3580471e-03,  6.8725958e-02],\n",
              "        ...,\n",
              "        [-3.9385006e-02, -6.9646657e-02,  1.5591808e-02, ...,\n",
              "          2.2587009e-02,  5.0430968e-02, -4.0258311e-02],\n",
              "        [-4.6156004e-02,  6.5931439e-02,  2.6721530e-02, ...,\n",
              "          7.1301013e-02,  1.4828332e-02, -2.1825880e-02],\n",
              "        [-3.1501416e-02, -6.9585085e-02,  6.8454295e-02, ...,\n",
              "          3.3825889e-02,  1.0015003e-02, -4.5447044e-02]], dtype=float32),\n",
              " array([0., 0., 0., 0., 0., 0., 0., 0., 0., 0., 0., 0., 0., 0., 0., 0., 0.,\n",
              "        0., 0., 0., 0., 0., 0., 0., 0., 0., 0., 0., 0., 0., 0., 0., 0., 0.,\n",
              "        0., 0., 0., 0., 0., 0., 0., 0., 0., 0., 0., 0., 0., 0., 0., 0., 0.,\n",
              "        0., 0., 0., 0., 0., 0., 0., 0., 0., 0., 0., 0., 0., 0., 0., 0., 0.,\n",
              "        0., 0., 0., 0., 0., 0., 0., 0., 0., 0., 0., 0., 0., 0., 0., 0., 0.,\n",
              "        0., 0., 0., 0., 0., 0., 0., 0., 0., 0., 0., 0., 0., 0., 0., 0., 0.,\n",
              "        0., 0., 0., 0., 0., 0., 0., 0., 0., 0., 0., 0., 0., 0., 0., 0., 0.,\n",
              "        0., 0., 0., 0., 0., 0., 0., 0., 0., 0., 0., 0., 0., 0., 0., 0., 0.,\n",
              "        0., 0., 0., 0., 0., 0., 0., 0., 0., 0., 0., 0., 0., 0., 0., 0., 0.,\n",
              "        0., 0., 0., 0., 0., 0., 0., 0., 0., 0., 0., 0., 0., 0., 0., 0., 0.,\n",
              "        0., 0., 0., 0., 0., 0., 0., 0., 0., 0., 0., 0., 0., 0., 0., 0., 0.,\n",
              "        0., 0., 0., 0., 0., 0., 0., 0., 0., 0., 0., 0., 0., 0., 0., 0., 0.,\n",
              "        0., 0., 0., 0., 0., 0., 0., 0., 0., 0., 0., 0., 0., 0., 0., 0., 0.,\n",
              "        0., 0., 0., 0., 0., 0., 0., 0., 0., 0., 0., 0., 0., 0., 0., 0., 0.,\n",
              "        0., 0., 0., 0., 0., 0., 0., 0., 0., 0., 0., 0., 0., 0., 0., 0., 0.,\n",
              "        0., 0., 0., 0., 0., 0., 0., 0., 0., 0., 0., 0., 0., 0., 0., 0., 0.,\n",
              "        0., 0., 0., 0., 0., 0., 0., 0., 0., 0., 0., 0., 0., 0., 0., 0., 0.,\n",
              "        0., 0., 0., 0., 0., 0., 0., 0., 0., 0., 0.], dtype=float32)]"
            ]
          },
          "metadata": {},
          "execution_count": 44
        }
      ]
    },
    {
      "cell_type": "code",
      "source": [
        "# Defining Loss_function,Optimizer,Metrics and compiling the model\n",
        "loss_function = \"sparse_categorical_crossentropy\"\n",
        "\n",
        "OPTIMIZER = tf.keras.optimizers.SGD(learning_rate=0.001)\n",
        "METRICS = [\"accuracy\"]\n",
        "model.compile(\n",
        " loss=loss_function,\n",
        " optimizer=OPTIMIZER,\n",
        " metrics=METRICS\n",
        ")\n",
        "\n"
      ],
      "metadata": {
        "id": "38m5ta9zK4sN"
      },
      "execution_count": null,
      "outputs": []
    },
    {
      "cell_type": "code",
      "source": [
        "# Creating a function for saving the logs at proper folder\n",
        "def get_log_path(log_dir=\"logs/fit\"):\n",
        " filename = time.strftime(\"1_log_%y_%m_%d_%H_%M_%S\")\n",
        " logs_path = os.path.join(log_dir,filename)\n",
        " print(f\"Saving logs at {logs_path}\")\n",
        " return logs_path\n"
      ],
      "metadata": {
        "id": "B5kCGkeiLJPf"
      },
      "execution_count": null,
      "outputs": []
    },
    {
      "cell_type": "code",
      "source": [
        "# Creating logs callback\n",
        "log_dirs = get_log_path()\n",
        "tb_cb = tf.keras.callbacks.TensorBoard(log_dir=log_dirs)\n"
      ],
      "metadata": {
        "colab": {
          "base_uri": "https://localhost:8080/"
        },
        "id": "ZfmvrW_yLRRL",
        "outputId": "4b0a1101-1f55-4bd6-e248-3c271d5ed92a"
      },
      "execution_count": null,
      "outputs": [
        {
          "output_type": "stream",
          "name": "stdout",
          "text": [
            "Saving logs at logs/fit/1_log_23_12_17_06_10_46\n"
          ]
        }
      ]
    },
    {
      "cell_type": "code",
      "source": [
        "# Creating early stopping callback\n",
        "early_stopping_cb = tf.keras.callbacks.EarlyStopping(patience=7, restore_best_weights=True)\n"
      ],
      "metadata": {
        "id": "LuuWDU5dLdWR"
      },
      "execution_count": null,
      "outputs": []
    },
    {
      "cell_type": "code",
      "source": [
        "# Saving the model with callback\n",
        "CKPT_path_BN = os.path.join(\"Models\",\"Model_ckpt_Digit_mnist_1.h5\")\n",
        "checkpoint_cb = tf.keras.callbacks.ModelCheckpoint(CKPT_path_BN, save_best_only=True)"
      ],
      "metadata": {
        "id": "BKviTNzBLkv1"
      },
      "execution_count": null,
      "outputs": []
    },
    {
      "cell_type": "markdown",
      "source": [
        "Train the neural network on the chosen dataset without using batch normalization."
      ],
      "metadata": {
        "id": "7YPaqpmoMBRZ"
      }
    },
    {
      "cell_type": "code",
      "source": [
        "EPOCHS = 50 # Number of Epochs\n",
        "VALIDATION_SET = (x_valid,y_valid) # Validation data\n",
        "history = model.fit(x_train,y_train,epochs=EPOCHS,validation_data=VALIDATION_SET,batch_size=64, # Training the model\n",
        " callbacks=[tb_cb,early_stopping_cb,checkpoint_cb],use_multiprocessing=True)\n"
      ],
      "metadata": {
        "colab": {
          "base_uri": "https://localhost:8080/"
        },
        "id": "mAHX-JfYME_w",
        "outputId": "6c89e0a6-4141-47ec-f3a8-1428c0fc56e3"
      },
      "execution_count": null,
      "outputs": [
        {
          "output_type": "stream",
          "name": "stdout",
          "text": [
            "Epoch 1/50\n",
            "860/860 [==============================] - 4s 4ms/step - loss: 2.0316 - accuracy: 0.3639 - val_loss: 1.7391 - val_accuracy: 0.6286\n",
            "Epoch 2/50\n",
            "860/860 [==============================] - 3s 4ms/step - loss: 1.4735 - accuracy: 0.7148 - val_loss: 1.2097 - val_accuracy: 0.7772\n",
            "Epoch 3/50\n",
            "860/860 [==============================] - 3s 3ms/step - loss: 1.0378 - accuracy: 0.8023 - val_loss: 0.8660 - val_accuracy: 0.8354\n",
            "Epoch 4/50\n",
            "860/860 [==============================] - 3s 4ms/step - loss: 0.7825 - accuracy: 0.8385 - val_loss: 0.6791 - val_accuracy: 0.8568\n",
            "Epoch 5/50\n",
            "860/860 [==============================] - 3s 4ms/step - loss: 0.6416 - accuracy: 0.8559 - val_loss: 0.5720 - val_accuracy: 0.8700\n",
            "Epoch 6/50\n",
            "860/860 [==============================] - 4s 4ms/step - loss: 0.5578 - accuracy: 0.8669 - val_loss: 0.5051 - val_accuracy: 0.8774\n",
            "Epoch 7/50\n",
            "860/860 [==============================] - 3s 4ms/step - loss: 0.5033 - accuracy: 0.8750 - val_loss: 0.4601 - val_accuracy: 0.8840\n",
            "Epoch 8/50\n",
            "860/860 [==============================] - 3s 4ms/step - loss: 0.4653 - accuracy: 0.8804 - val_loss: 0.4279 - val_accuracy: 0.8872\n",
            "Epoch 9/50\n",
            "860/860 [==============================] - 4s 4ms/step - loss: 0.4372 - accuracy: 0.8848 - val_loss: 0.4035 - val_accuracy: 0.8922\n",
            "Epoch 10/50\n",
            "860/860 [==============================] - 4s 4ms/step - loss: 0.4156 - accuracy: 0.8883 - val_loss: 0.3847 - val_accuracy: 0.8984\n",
            "Epoch 11/50\n",
            "860/860 [==============================] - 3s 4ms/step - loss: 0.3981 - accuracy: 0.8921 - val_loss: 0.3696 - val_accuracy: 0.9024\n",
            "Epoch 12/50\n",
            "860/860 [==============================] - 3s 4ms/step - loss: 0.3838 - accuracy: 0.8945 - val_loss: 0.3562 - val_accuracy: 0.9066\n",
            "Epoch 13/50\n",
            "860/860 [==============================] - 4s 4ms/step - loss: 0.3716 - accuracy: 0.8973 - val_loss: 0.3452 - val_accuracy: 0.9084\n",
            "Epoch 14/50\n",
            "860/860 [==============================] - 5s 6ms/step - loss: 0.3611 - accuracy: 0.8997 - val_loss: 0.3357 - val_accuracy: 0.9096\n",
            "Epoch 15/50\n",
            "860/860 [==============================] - 3s 4ms/step - loss: 0.3519 - accuracy: 0.9019 - val_loss: 0.3272 - val_accuracy: 0.9108\n",
            "Epoch 16/50\n",
            "860/860 [==============================] - 3s 4ms/step - loss: 0.3438 - accuracy: 0.9035 - val_loss: 0.3200 - val_accuracy: 0.9122\n",
            "Epoch 17/50\n",
            "860/860 [==============================] - 3s 4ms/step - loss: 0.3365 - accuracy: 0.9055 - val_loss: 0.3133 - val_accuracy: 0.9138\n",
            "Epoch 18/50\n",
            "860/860 [==============================] - 5s 6ms/step - loss: 0.3298 - accuracy: 0.9068 - val_loss: 0.3070 - val_accuracy: 0.9156\n",
            "Epoch 19/50\n",
            "860/860 [==============================] - 4s 5ms/step - loss: 0.3236 - accuracy: 0.9082 - val_loss: 0.3015 - val_accuracy: 0.9166\n",
            "Epoch 20/50\n",
            "860/860 [==============================] - 3s 4ms/step - loss: 0.3180 - accuracy: 0.9095 - val_loss: 0.2960 - val_accuracy: 0.9184\n",
            "Epoch 21/50\n",
            "860/860 [==============================] - 4s 4ms/step - loss: 0.3127 - accuracy: 0.9110 - val_loss: 0.2917 - val_accuracy: 0.9188\n",
            "Epoch 22/50\n",
            "860/860 [==============================] - 3s 4ms/step - loss: 0.3077 - accuracy: 0.9125 - val_loss: 0.2872 - val_accuracy: 0.9204\n",
            "Epoch 23/50\n",
            "860/860 [==============================] - 3s 4ms/step - loss: 0.3031 - accuracy: 0.9138 - val_loss: 0.2829 - val_accuracy: 0.9216\n",
            "Epoch 24/50\n",
            "860/860 [==============================] - 3s 4ms/step - loss: 0.2987 - accuracy: 0.9147 - val_loss: 0.2790 - val_accuracy: 0.9222\n",
            "Epoch 25/50\n",
            "860/860 [==============================] - 4s 4ms/step - loss: 0.2946 - accuracy: 0.9160 - val_loss: 0.2748 - val_accuracy: 0.9236\n",
            "Epoch 26/50\n",
            "860/860 [==============================] - 3s 4ms/step - loss: 0.2907 - accuracy: 0.9171 - val_loss: 0.2716 - val_accuracy: 0.9242\n",
            "Epoch 27/50\n",
            "860/860 [==============================] - 3s 4ms/step - loss: 0.2868 - accuracy: 0.9180 - val_loss: 0.2683 - val_accuracy: 0.9246\n",
            "Epoch 28/50\n",
            "860/860 [==============================] - 3s 4ms/step - loss: 0.2833 - accuracy: 0.9191 - val_loss: 0.2648 - val_accuracy: 0.9262\n",
            "Epoch 29/50\n",
            "860/860 [==============================] - 4s 5ms/step - loss: 0.2798 - accuracy: 0.9199 - val_loss: 0.2617 - val_accuracy: 0.9272\n",
            "Epoch 30/50\n",
            "860/860 [==============================] - 3s 4ms/step - loss: 0.2765 - accuracy: 0.9207 - val_loss: 0.2589 - val_accuracy: 0.9276\n",
            "Epoch 31/50\n",
            "860/860 [==============================] - 3s 4ms/step - loss: 0.2732 - accuracy: 0.9215 - val_loss: 0.2561 - val_accuracy: 0.9308\n",
            "Epoch 32/50\n",
            "860/860 [==============================] - 3s 4ms/step - loss: 0.2702 - accuracy: 0.9226 - val_loss: 0.2532 - val_accuracy: 0.9302\n",
            "Epoch 33/50\n",
            "860/860 [==============================] - 4s 5ms/step - loss: 0.2671 - accuracy: 0.9237 - val_loss: 0.2504 - val_accuracy: 0.9308\n",
            "Epoch 34/50\n",
            "860/860 [==============================] - 3s 4ms/step - loss: 0.2643 - accuracy: 0.9247 - val_loss: 0.2480 - val_accuracy: 0.9332\n",
            "Epoch 35/50\n",
            "860/860 [==============================] - 3s 4ms/step - loss: 0.2615 - accuracy: 0.9255 - val_loss: 0.2454 - val_accuracy: 0.9338\n",
            "Epoch 36/50\n",
            "860/860 [==============================] - 3s 4ms/step - loss: 0.2587 - accuracy: 0.9262 - val_loss: 0.2428 - val_accuracy: 0.9346\n",
            "Epoch 37/50\n",
            "860/860 [==============================] - 4s 5ms/step - loss: 0.2561 - accuracy: 0.9276 - val_loss: 0.2409 - val_accuracy: 0.9362\n",
            "Epoch 38/50\n",
            "860/860 [==============================] - 4s 4ms/step - loss: 0.2535 - accuracy: 0.9278 - val_loss: 0.2384 - val_accuracy: 0.9368\n",
            "Epoch 39/50\n",
            "860/860 [==============================] - 3s 4ms/step - loss: 0.2509 - accuracy: 0.9288 - val_loss: 0.2360 - val_accuracy: 0.9366\n",
            "Epoch 40/50\n",
            "860/860 [==============================] - 4s 4ms/step - loss: 0.2485 - accuracy: 0.9294 - val_loss: 0.2339 - val_accuracy: 0.9382\n",
            "Epoch 41/50\n",
            "860/860 [==============================] - 4s 4ms/step - loss: 0.2461 - accuracy: 0.9302 - val_loss: 0.2316 - val_accuracy: 0.9386\n",
            "Epoch 42/50\n",
            "860/860 [==============================] - 3s 4ms/step - loss: 0.2437 - accuracy: 0.9308 - val_loss: 0.2295 - val_accuracy: 0.9386\n",
            "Epoch 43/50\n",
            "860/860 [==============================] - 3s 4ms/step - loss: 0.2415 - accuracy: 0.9312 - val_loss: 0.2275 - val_accuracy: 0.9396\n",
            "Epoch 44/50\n",
            "860/860 [==============================] - 4s 4ms/step - loss: 0.2392 - accuracy: 0.9319 - val_loss: 0.2255 - val_accuracy: 0.9394\n",
            "Epoch 45/50\n",
            "860/860 [==============================] - 3s 4ms/step - loss: 0.2370 - accuracy: 0.9329 - val_loss: 0.2237 - val_accuracy: 0.9408\n",
            "Epoch 46/50\n",
            "860/860 [==============================] - 3s 3ms/step - loss: 0.2348 - accuracy: 0.9333 - val_loss: 0.2219 - val_accuracy: 0.9414\n",
            "Epoch 47/50\n",
            "860/860 [==============================] - 3s 4ms/step - loss: 0.2328 - accuracy: 0.9340 - val_loss: 0.2204 - val_accuracy: 0.9416\n",
            "Epoch 48/50\n",
            "860/860 [==============================] - 4s 4ms/step - loss: 0.2307 - accuracy: 0.9345 - val_loss: 0.2188 - val_accuracy: 0.9422\n",
            "Epoch 49/50\n",
            "860/860 [==============================] - 3s 4ms/step - loss: 0.2287 - accuracy: 0.9353 - val_loss: 0.2165 - val_accuracy: 0.9426\n",
            "Epoch 50/50\n",
            "860/860 [==============================] - 3s 4ms/step - loss: 0.2266 - accuracy: 0.9358 - val_loss: 0.2148 - val_accuracy: 0.9440\n"
          ]
        }
      ]
    },
    {
      "cell_type": "code",
      "source": [
        "pd.DataFrame(history.history) # All the losses and accuracy in each epoch\n"
      ],
      "metadata": {
        "colab": {
          "base_uri": "https://localhost:8080/",
          "height": 1000
        },
        "id": "dnFVWz3RNPv2",
        "outputId": "fc7fb112-5c86-4d28-c319-a4e5b287ff08"
      },
      "execution_count": null,
      "outputs": [
        {
          "output_type": "execute_result",
          "data": {
            "text/plain": [
              "        loss  accuracy  val_loss  val_accuracy\n",
              "0   2.031647  0.363945  1.739101        0.6286\n",
              "1   1.473486  0.714782  1.209672        0.7772\n",
              "2   1.037807  0.802291  0.866002        0.8354\n",
              "3   0.782501  0.838473  0.679113        0.8568\n",
              "4   0.641572  0.855945  0.572044        0.8700\n",
              "5   0.557790  0.866909  0.505131        0.8774\n",
              "6   0.503303  0.874964  0.460076        0.8840\n",
              "7   0.465349  0.880364  0.427863        0.8872\n",
              "8   0.437190  0.884782  0.403474        0.8922\n",
              "9   0.415596  0.888345  0.384669        0.8984\n",
              "10  0.398088  0.892109  0.369639        0.9024\n",
              "11  0.383845  0.894545  0.356173        0.9066\n",
              "12  0.371638  0.897327  0.345183        0.9084\n",
              "13  0.361141  0.899655  0.335707        0.9096\n",
              "14  0.351921  0.901873  0.327192        0.9108\n",
              "15  0.343779  0.903527  0.319986        0.9122\n",
              "16  0.336500  0.905545  0.313264        0.9138\n",
              "17  0.329769  0.906764  0.306994        0.9156\n",
              "18  0.323631  0.908200  0.301470        0.9166\n",
              "19  0.317982  0.909545  0.296047        0.9184\n",
              "20  0.312682  0.911000  0.291670        0.9188\n",
              "21  0.307734  0.912491  0.287211        0.9204\n",
              "22  0.303065  0.913818  0.282938        0.9216\n",
              "23  0.298725  0.914673  0.279002        0.9222\n",
              "24  0.294610  0.915964  0.274775        0.9236\n",
              "25  0.290688  0.917109  0.271607        0.9242\n",
              "26  0.286848  0.917964  0.268289        0.9246\n",
              "27  0.283297  0.919073  0.264751        0.9262\n",
              "28  0.279816  0.919927  0.261747        0.9272\n",
              "29  0.276478  0.920673  0.258871        0.9276\n",
              "30  0.273232  0.921545  0.256070        0.9308\n",
              "31  0.270193  0.922600  0.253174        0.9302\n",
              "32  0.267124  0.923709  0.250363        0.9308\n",
              "33  0.264253  0.924655  0.247955        0.9332\n",
              "34  0.261470  0.925509  0.245372        0.9338\n",
              "35  0.258736  0.926182  0.242795        0.9346\n",
              "36  0.256066  0.927600  0.240898        0.9362\n",
              "37  0.253523  0.927764  0.238377        0.9368\n",
              "38  0.250897  0.928764  0.236044        0.9366\n",
              "39  0.248538  0.929382  0.233921        0.9382\n",
              "40  0.246088  0.930200  0.231599        0.9386\n",
              "41  0.243695  0.930764  0.229467        0.9386\n",
              "42  0.241509  0.931182  0.227521        0.9396\n",
              "43  0.239161  0.931855  0.225504        0.9394\n",
              "44  0.237033  0.932855  0.223664        0.9408\n",
              "45  0.234846  0.933291  0.221943        0.9414\n",
              "46  0.232781  0.934018  0.220367        0.9416\n",
              "47  0.230657  0.934545  0.218768        0.9422\n",
              "48  0.228671  0.935327  0.216479        0.9426\n",
              "49  0.226637  0.935836  0.214766        0.9440"
            ],
            "text/html": [
              "\n",
              "  <div id=\"df-55424743-4adb-48b7-a464-2a2bdb38d276\" class=\"colab-df-container\">\n",
              "    <div>\n",
              "<style scoped>\n",
              "    .dataframe tbody tr th:only-of-type {\n",
              "        vertical-align: middle;\n",
              "    }\n",
              "\n",
              "    .dataframe tbody tr th {\n",
              "        vertical-align: top;\n",
              "    }\n",
              "\n",
              "    .dataframe thead th {\n",
              "        text-align: right;\n",
              "    }\n",
              "</style>\n",
              "<table border=\"1\" class=\"dataframe\">\n",
              "  <thead>\n",
              "    <tr style=\"text-align: right;\">\n",
              "      <th></th>\n",
              "      <th>loss</th>\n",
              "      <th>accuracy</th>\n",
              "      <th>val_loss</th>\n",
              "      <th>val_accuracy</th>\n",
              "    </tr>\n",
              "  </thead>\n",
              "  <tbody>\n",
              "    <tr>\n",
              "      <th>0</th>\n",
              "      <td>2.031647</td>\n",
              "      <td>0.363945</td>\n",
              "      <td>1.739101</td>\n",
              "      <td>0.6286</td>\n",
              "    </tr>\n",
              "    <tr>\n",
              "      <th>1</th>\n",
              "      <td>1.473486</td>\n",
              "      <td>0.714782</td>\n",
              "      <td>1.209672</td>\n",
              "      <td>0.7772</td>\n",
              "    </tr>\n",
              "    <tr>\n",
              "      <th>2</th>\n",
              "      <td>1.037807</td>\n",
              "      <td>0.802291</td>\n",
              "      <td>0.866002</td>\n",
              "      <td>0.8354</td>\n",
              "    </tr>\n",
              "    <tr>\n",
              "      <th>3</th>\n",
              "      <td>0.782501</td>\n",
              "      <td>0.838473</td>\n",
              "      <td>0.679113</td>\n",
              "      <td>0.8568</td>\n",
              "    </tr>\n",
              "    <tr>\n",
              "      <th>4</th>\n",
              "      <td>0.641572</td>\n",
              "      <td>0.855945</td>\n",
              "      <td>0.572044</td>\n",
              "      <td>0.8700</td>\n",
              "    </tr>\n",
              "    <tr>\n",
              "      <th>5</th>\n",
              "      <td>0.557790</td>\n",
              "      <td>0.866909</td>\n",
              "      <td>0.505131</td>\n",
              "      <td>0.8774</td>\n",
              "    </tr>\n",
              "    <tr>\n",
              "      <th>6</th>\n",
              "      <td>0.503303</td>\n",
              "      <td>0.874964</td>\n",
              "      <td>0.460076</td>\n",
              "      <td>0.8840</td>\n",
              "    </tr>\n",
              "    <tr>\n",
              "      <th>7</th>\n",
              "      <td>0.465349</td>\n",
              "      <td>0.880364</td>\n",
              "      <td>0.427863</td>\n",
              "      <td>0.8872</td>\n",
              "    </tr>\n",
              "    <tr>\n",
              "      <th>8</th>\n",
              "      <td>0.437190</td>\n",
              "      <td>0.884782</td>\n",
              "      <td>0.403474</td>\n",
              "      <td>0.8922</td>\n",
              "    </tr>\n",
              "    <tr>\n",
              "      <th>9</th>\n",
              "      <td>0.415596</td>\n",
              "      <td>0.888345</td>\n",
              "      <td>0.384669</td>\n",
              "      <td>0.8984</td>\n",
              "    </tr>\n",
              "    <tr>\n",
              "      <th>10</th>\n",
              "      <td>0.398088</td>\n",
              "      <td>0.892109</td>\n",
              "      <td>0.369639</td>\n",
              "      <td>0.9024</td>\n",
              "    </tr>\n",
              "    <tr>\n",
              "      <th>11</th>\n",
              "      <td>0.383845</td>\n",
              "      <td>0.894545</td>\n",
              "      <td>0.356173</td>\n",
              "      <td>0.9066</td>\n",
              "    </tr>\n",
              "    <tr>\n",
              "      <th>12</th>\n",
              "      <td>0.371638</td>\n",
              "      <td>0.897327</td>\n",
              "      <td>0.345183</td>\n",
              "      <td>0.9084</td>\n",
              "    </tr>\n",
              "    <tr>\n",
              "      <th>13</th>\n",
              "      <td>0.361141</td>\n",
              "      <td>0.899655</td>\n",
              "      <td>0.335707</td>\n",
              "      <td>0.9096</td>\n",
              "    </tr>\n",
              "    <tr>\n",
              "      <th>14</th>\n",
              "      <td>0.351921</td>\n",
              "      <td>0.901873</td>\n",
              "      <td>0.327192</td>\n",
              "      <td>0.9108</td>\n",
              "    </tr>\n",
              "    <tr>\n",
              "      <th>15</th>\n",
              "      <td>0.343779</td>\n",
              "      <td>0.903527</td>\n",
              "      <td>0.319986</td>\n",
              "      <td>0.9122</td>\n",
              "    </tr>\n",
              "    <tr>\n",
              "      <th>16</th>\n",
              "      <td>0.336500</td>\n",
              "      <td>0.905545</td>\n",
              "      <td>0.313264</td>\n",
              "      <td>0.9138</td>\n",
              "    </tr>\n",
              "    <tr>\n",
              "      <th>17</th>\n",
              "      <td>0.329769</td>\n",
              "      <td>0.906764</td>\n",
              "      <td>0.306994</td>\n",
              "      <td>0.9156</td>\n",
              "    </tr>\n",
              "    <tr>\n",
              "      <th>18</th>\n",
              "      <td>0.323631</td>\n",
              "      <td>0.908200</td>\n",
              "      <td>0.301470</td>\n",
              "      <td>0.9166</td>\n",
              "    </tr>\n",
              "    <tr>\n",
              "      <th>19</th>\n",
              "      <td>0.317982</td>\n",
              "      <td>0.909545</td>\n",
              "      <td>0.296047</td>\n",
              "      <td>0.9184</td>\n",
              "    </tr>\n",
              "    <tr>\n",
              "      <th>20</th>\n",
              "      <td>0.312682</td>\n",
              "      <td>0.911000</td>\n",
              "      <td>0.291670</td>\n",
              "      <td>0.9188</td>\n",
              "    </tr>\n",
              "    <tr>\n",
              "      <th>21</th>\n",
              "      <td>0.307734</td>\n",
              "      <td>0.912491</td>\n",
              "      <td>0.287211</td>\n",
              "      <td>0.9204</td>\n",
              "    </tr>\n",
              "    <tr>\n",
              "      <th>22</th>\n",
              "      <td>0.303065</td>\n",
              "      <td>0.913818</td>\n",
              "      <td>0.282938</td>\n",
              "      <td>0.9216</td>\n",
              "    </tr>\n",
              "    <tr>\n",
              "      <th>23</th>\n",
              "      <td>0.298725</td>\n",
              "      <td>0.914673</td>\n",
              "      <td>0.279002</td>\n",
              "      <td>0.9222</td>\n",
              "    </tr>\n",
              "    <tr>\n",
              "      <th>24</th>\n",
              "      <td>0.294610</td>\n",
              "      <td>0.915964</td>\n",
              "      <td>0.274775</td>\n",
              "      <td>0.9236</td>\n",
              "    </tr>\n",
              "    <tr>\n",
              "      <th>25</th>\n",
              "      <td>0.290688</td>\n",
              "      <td>0.917109</td>\n",
              "      <td>0.271607</td>\n",
              "      <td>0.9242</td>\n",
              "    </tr>\n",
              "    <tr>\n",
              "      <th>26</th>\n",
              "      <td>0.286848</td>\n",
              "      <td>0.917964</td>\n",
              "      <td>0.268289</td>\n",
              "      <td>0.9246</td>\n",
              "    </tr>\n",
              "    <tr>\n",
              "      <th>27</th>\n",
              "      <td>0.283297</td>\n",
              "      <td>0.919073</td>\n",
              "      <td>0.264751</td>\n",
              "      <td>0.9262</td>\n",
              "    </tr>\n",
              "    <tr>\n",
              "      <th>28</th>\n",
              "      <td>0.279816</td>\n",
              "      <td>0.919927</td>\n",
              "      <td>0.261747</td>\n",
              "      <td>0.9272</td>\n",
              "    </tr>\n",
              "    <tr>\n",
              "      <th>29</th>\n",
              "      <td>0.276478</td>\n",
              "      <td>0.920673</td>\n",
              "      <td>0.258871</td>\n",
              "      <td>0.9276</td>\n",
              "    </tr>\n",
              "    <tr>\n",
              "      <th>30</th>\n",
              "      <td>0.273232</td>\n",
              "      <td>0.921545</td>\n",
              "      <td>0.256070</td>\n",
              "      <td>0.9308</td>\n",
              "    </tr>\n",
              "    <tr>\n",
              "      <th>31</th>\n",
              "      <td>0.270193</td>\n",
              "      <td>0.922600</td>\n",
              "      <td>0.253174</td>\n",
              "      <td>0.9302</td>\n",
              "    </tr>\n",
              "    <tr>\n",
              "      <th>32</th>\n",
              "      <td>0.267124</td>\n",
              "      <td>0.923709</td>\n",
              "      <td>0.250363</td>\n",
              "      <td>0.9308</td>\n",
              "    </tr>\n",
              "    <tr>\n",
              "      <th>33</th>\n",
              "      <td>0.264253</td>\n",
              "      <td>0.924655</td>\n",
              "      <td>0.247955</td>\n",
              "      <td>0.9332</td>\n",
              "    </tr>\n",
              "    <tr>\n",
              "      <th>34</th>\n",
              "      <td>0.261470</td>\n",
              "      <td>0.925509</td>\n",
              "      <td>0.245372</td>\n",
              "      <td>0.9338</td>\n",
              "    </tr>\n",
              "    <tr>\n",
              "      <th>35</th>\n",
              "      <td>0.258736</td>\n",
              "      <td>0.926182</td>\n",
              "      <td>0.242795</td>\n",
              "      <td>0.9346</td>\n",
              "    </tr>\n",
              "    <tr>\n",
              "      <th>36</th>\n",
              "      <td>0.256066</td>\n",
              "      <td>0.927600</td>\n",
              "      <td>0.240898</td>\n",
              "      <td>0.9362</td>\n",
              "    </tr>\n",
              "    <tr>\n",
              "      <th>37</th>\n",
              "      <td>0.253523</td>\n",
              "      <td>0.927764</td>\n",
              "      <td>0.238377</td>\n",
              "      <td>0.9368</td>\n",
              "    </tr>\n",
              "    <tr>\n",
              "      <th>38</th>\n",
              "      <td>0.250897</td>\n",
              "      <td>0.928764</td>\n",
              "      <td>0.236044</td>\n",
              "      <td>0.9366</td>\n",
              "    </tr>\n",
              "    <tr>\n",
              "      <th>39</th>\n",
              "      <td>0.248538</td>\n",
              "      <td>0.929382</td>\n",
              "      <td>0.233921</td>\n",
              "      <td>0.9382</td>\n",
              "    </tr>\n",
              "    <tr>\n",
              "      <th>40</th>\n",
              "      <td>0.246088</td>\n",
              "      <td>0.930200</td>\n",
              "      <td>0.231599</td>\n",
              "      <td>0.9386</td>\n",
              "    </tr>\n",
              "    <tr>\n",
              "      <th>41</th>\n",
              "      <td>0.243695</td>\n",
              "      <td>0.930764</td>\n",
              "      <td>0.229467</td>\n",
              "      <td>0.9386</td>\n",
              "    </tr>\n",
              "    <tr>\n",
              "      <th>42</th>\n",
              "      <td>0.241509</td>\n",
              "      <td>0.931182</td>\n",
              "      <td>0.227521</td>\n",
              "      <td>0.9396</td>\n",
              "    </tr>\n",
              "    <tr>\n",
              "      <th>43</th>\n",
              "      <td>0.239161</td>\n",
              "      <td>0.931855</td>\n",
              "      <td>0.225504</td>\n",
              "      <td>0.9394</td>\n",
              "    </tr>\n",
              "    <tr>\n",
              "      <th>44</th>\n",
              "      <td>0.237033</td>\n",
              "      <td>0.932855</td>\n",
              "      <td>0.223664</td>\n",
              "      <td>0.9408</td>\n",
              "    </tr>\n",
              "    <tr>\n",
              "      <th>45</th>\n",
              "      <td>0.234846</td>\n",
              "      <td>0.933291</td>\n",
              "      <td>0.221943</td>\n",
              "      <td>0.9414</td>\n",
              "    </tr>\n",
              "    <tr>\n",
              "      <th>46</th>\n",
              "      <td>0.232781</td>\n",
              "      <td>0.934018</td>\n",
              "      <td>0.220367</td>\n",
              "      <td>0.9416</td>\n",
              "    </tr>\n",
              "    <tr>\n",
              "      <th>47</th>\n",
              "      <td>0.230657</td>\n",
              "      <td>0.934545</td>\n",
              "      <td>0.218768</td>\n",
              "      <td>0.9422</td>\n",
              "    </tr>\n",
              "    <tr>\n",
              "      <th>48</th>\n",
              "      <td>0.228671</td>\n",
              "      <td>0.935327</td>\n",
              "      <td>0.216479</td>\n",
              "      <td>0.9426</td>\n",
              "    </tr>\n",
              "    <tr>\n",
              "      <th>49</th>\n",
              "      <td>0.226637</td>\n",
              "      <td>0.935836</td>\n",
              "      <td>0.214766</td>\n",
              "      <td>0.9440</td>\n",
              "    </tr>\n",
              "  </tbody>\n",
              "</table>\n",
              "</div>\n",
              "    <div class=\"colab-df-buttons\">\n",
              "\n",
              "  <div class=\"colab-df-container\">\n",
              "    <button class=\"colab-df-convert\" onclick=\"convertToInteractive('df-55424743-4adb-48b7-a464-2a2bdb38d276')\"\n",
              "            title=\"Convert this dataframe to an interactive table.\"\n",
              "            style=\"display:none;\">\n",
              "\n",
              "  <svg xmlns=\"http://www.w3.org/2000/svg\" height=\"24px\" viewBox=\"0 -960 960 960\">\n",
              "    <path d=\"M120-120v-720h720v720H120Zm60-500h600v-160H180v160Zm220 220h160v-160H400v160Zm0 220h160v-160H400v160ZM180-400h160v-160H180v160Zm440 0h160v-160H620v160ZM180-180h160v-160H180v160Zm440 0h160v-160H620v160Z\"/>\n",
              "  </svg>\n",
              "    </button>\n",
              "\n",
              "  <style>\n",
              "    .colab-df-container {\n",
              "      display:flex;\n",
              "      gap: 12px;\n",
              "    }\n",
              "\n",
              "    .colab-df-convert {\n",
              "      background-color: #E8F0FE;\n",
              "      border: none;\n",
              "      border-radius: 50%;\n",
              "      cursor: pointer;\n",
              "      display: none;\n",
              "      fill: #1967D2;\n",
              "      height: 32px;\n",
              "      padding: 0 0 0 0;\n",
              "      width: 32px;\n",
              "    }\n",
              "\n",
              "    .colab-df-convert:hover {\n",
              "      background-color: #E2EBFA;\n",
              "      box-shadow: 0px 1px 2px rgba(60, 64, 67, 0.3), 0px 1px 3px 1px rgba(60, 64, 67, 0.15);\n",
              "      fill: #174EA6;\n",
              "    }\n",
              "\n",
              "    .colab-df-buttons div {\n",
              "      margin-bottom: 4px;\n",
              "    }\n",
              "\n",
              "    [theme=dark] .colab-df-convert {\n",
              "      background-color: #3B4455;\n",
              "      fill: #D2E3FC;\n",
              "    }\n",
              "\n",
              "    [theme=dark] .colab-df-convert:hover {\n",
              "      background-color: #434B5C;\n",
              "      box-shadow: 0px 1px 3px 1px rgba(0, 0, 0, 0.15);\n",
              "      filter: drop-shadow(0px 1px 2px rgba(0, 0, 0, 0.3));\n",
              "      fill: #FFFFFF;\n",
              "    }\n",
              "  </style>\n",
              "\n",
              "    <script>\n",
              "      const buttonEl =\n",
              "        document.querySelector('#df-55424743-4adb-48b7-a464-2a2bdb38d276 button.colab-df-convert');\n",
              "      buttonEl.style.display =\n",
              "        google.colab.kernel.accessAllowed ? 'block' : 'none';\n",
              "\n",
              "      async function convertToInteractive(key) {\n",
              "        const element = document.querySelector('#df-55424743-4adb-48b7-a464-2a2bdb38d276');\n",
              "        const dataTable =\n",
              "          await google.colab.kernel.invokeFunction('convertToInteractive',\n",
              "                                                    [key], {});\n",
              "        if (!dataTable) return;\n",
              "\n",
              "        const docLinkHtml = 'Like what you see? Visit the ' +\n",
              "          '<a target=\"_blank\" href=https://colab.research.google.com/notebooks/data_table.ipynb>data table notebook</a>'\n",
              "          + ' to learn more about interactive tables.';\n",
              "        element.innerHTML = '';\n",
              "        dataTable['output_type'] = 'display_data';\n",
              "        await google.colab.output.renderOutput(dataTable, element);\n",
              "        const docLink = document.createElement('div');\n",
              "        docLink.innerHTML = docLinkHtml;\n",
              "        element.appendChild(docLink);\n",
              "      }\n",
              "    </script>\n",
              "  </div>\n",
              "\n",
              "\n",
              "<div id=\"df-c443c543-c396-4e4b-b052-729145798e8f\">\n",
              "  <button class=\"colab-df-quickchart\" onclick=\"quickchart('df-c443c543-c396-4e4b-b052-729145798e8f')\"\n",
              "            title=\"Suggest charts\"\n",
              "            style=\"display:none;\">\n",
              "\n",
              "<svg xmlns=\"http://www.w3.org/2000/svg\" height=\"24px\"viewBox=\"0 0 24 24\"\n",
              "     width=\"24px\">\n",
              "    <g>\n",
              "        <path d=\"M19 3H5c-1.1 0-2 .9-2 2v14c0 1.1.9 2 2 2h14c1.1 0 2-.9 2-2V5c0-1.1-.9-2-2-2zM9 17H7v-7h2v7zm4 0h-2V7h2v10zm4 0h-2v-4h2v4z\"/>\n",
              "    </g>\n",
              "</svg>\n",
              "  </button>\n",
              "\n",
              "<style>\n",
              "  .colab-df-quickchart {\n",
              "      --bg-color: #E8F0FE;\n",
              "      --fill-color: #1967D2;\n",
              "      --hover-bg-color: #E2EBFA;\n",
              "      --hover-fill-color: #174EA6;\n",
              "      --disabled-fill-color: #AAA;\n",
              "      --disabled-bg-color: #DDD;\n",
              "  }\n",
              "\n",
              "  [theme=dark] .colab-df-quickchart {\n",
              "      --bg-color: #3B4455;\n",
              "      --fill-color: #D2E3FC;\n",
              "      --hover-bg-color: #434B5C;\n",
              "      --hover-fill-color: #FFFFFF;\n",
              "      --disabled-bg-color: #3B4455;\n",
              "      --disabled-fill-color: #666;\n",
              "  }\n",
              "\n",
              "  .colab-df-quickchart {\n",
              "    background-color: var(--bg-color);\n",
              "    border: none;\n",
              "    border-radius: 50%;\n",
              "    cursor: pointer;\n",
              "    display: none;\n",
              "    fill: var(--fill-color);\n",
              "    height: 32px;\n",
              "    padding: 0;\n",
              "    width: 32px;\n",
              "  }\n",
              "\n",
              "  .colab-df-quickchart:hover {\n",
              "    background-color: var(--hover-bg-color);\n",
              "    box-shadow: 0 1px 2px rgba(60, 64, 67, 0.3), 0 1px 3px 1px rgba(60, 64, 67, 0.15);\n",
              "    fill: var(--button-hover-fill-color);\n",
              "  }\n",
              "\n",
              "  .colab-df-quickchart-complete:disabled,\n",
              "  .colab-df-quickchart-complete:disabled:hover {\n",
              "    background-color: var(--disabled-bg-color);\n",
              "    fill: var(--disabled-fill-color);\n",
              "    box-shadow: none;\n",
              "  }\n",
              "\n",
              "  .colab-df-spinner {\n",
              "    border: 2px solid var(--fill-color);\n",
              "    border-color: transparent;\n",
              "    border-bottom-color: var(--fill-color);\n",
              "    animation:\n",
              "      spin 1s steps(1) infinite;\n",
              "  }\n",
              "\n",
              "  @keyframes spin {\n",
              "    0% {\n",
              "      border-color: transparent;\n",
              "      border-bottom-color: var(--fill-color);\n",
              "      border-left-color: var(--fill-color);\n",
              "    }\n",
              "    20% {\n",
              "      border-color: transparent;\n",
              "      border-left-color: var(--fill-color);\n",
              "      border-top-color: var(--fill-color);\n",
              "    }\n",
              "    30% {\n",
              "      border-color: transparent;\n",
              "      border-left-color: var(--fill-color);\n",
              "      border-top-color: var(--fill-color);\n",
              "      border-right-color: var(--fill-color);\n",
              "    }\n",
              "    40% {\n",
              "      border-color: transparent;\n",
              "      border-right-color: var(--fill-color);\n",
              "      border-top-color: var(--fill-color);\n",
              "    }\n",
              "    60% {\n",
              "      border-color: transparent;\n",
              "      border-right-color: var(--fill-color);\n",
              "    }\n",
              "    80% {\n",
              "      border-color: transparent;\n",
              "      border-right-color: var(--fill-color);\n",
              "      border-bottom-color: var(--fill-color);\n",
              "    }\n",
              "    90% {\n",
              "      border-color: transparent;\n",
              "      border-bottom-color: var(--fill-color);\n",
              "    }\n",
              "  }\n",
              "</style>\n",
              "\n",
              "  <script>\n",
              "    async function quickchart(key) {\n",
              "      const quickchartButtonEl =\n",
              "        document.querySelector('#' + key + ' button');\n",
              "      quickchartButtonEl.disabled = true;  // To prevent multiple clicks.\n",
              "      quickchartButtonEl.classList.add('colab-df-spinner');\n",
              "      try {\n",
              "        const charts = await google.colab.kernel.invokeFunction(\n",
              "            'suggestCharts', [key], {});\n",
              "      } catch (error) {\n",
              "        console.error('Error during call to suggestCharts:', error);\n",
              "      }\n",
              "      quickchartButtonEl.classList.remove('colab-df-spinner');\n",
              "      quickchartButtonEl.classList.add('colab-df-quickchart-complete');\n",
              "    }\n",
              "    (() => {\n",
              "      let quickchartButtonEl =\n",
              "        document.querySelector('#df-c443c543-c396-4e4b-b052-729145798e8f button');\n",
              "      quickchartButtonEl.style.display =\n",
              "        google.colab.kernel.accessAllowed ? 'block' : 'none';\n",
              "    })();\n",
              "  </script>\n",
              "</div>\n",
              "\n",
              "    </div>\n",
              "  </div>\n"
            ]
          },
          "metadata": {},
          "execution_count": 51
        }
      ]
    },
    {
      "cell_type": "code",
      "source": [
        "pd.DataFrame(history.history).plot() # Plotting all of the accuracy and losses"
      ],
      "metadata": {
        "colab": {
          "base_uri": "https://localhost:8080/",
          "height": 447
        },
        "id": "Rmm-Qc6FNcyH",
        "outputId": "d5f8e62f-d276-432b-8905-85461866dae9"
      },
      "execution_count": null,
      "outputs": [
        {
          "output_type": "execute_result",
          "data": {
            "text/plain": [
              "<Axes: >"
            ]
          },
          "metadata": {},
          "execution_count": 52
        },
        {
          "output_type": "display_data",
          "data": {
            "text/plain": [
              "<Figure size 640x480 with 1 Axes>"
            ],
            "image/png": "[encoded data removed]"
          },
          "metadata": {}
        }
      ]
    },
    {
      "cell_type": "code",
      "source": [
        "ckpt_model = tf.keras.models.load_model(CKPT_path_BN) # Loading model\n",
        "ckpt_model.evaluate(x_test,y_test) # Evaluating the performance of the model on test data"
      ],
      "metadata": {
        "colab": {
          "base_uri": "https://localhost:8080/"
        },
        "id": "nZ0AMG90NwVc",
        "outputId": "d2879b58-fc10-4fe0-9a00-61cfb8c6aefc"
      },
      "execution_count": null,
      "outputs": [
        {
          "output_type": "stream",
          "name": "stdout",
          "text": [
            "313/313 [==============================] - 1s 2ms/step - loss: 0.2233 - accuracy: 0.9380\n"
          ]
        },
        {
          "output_type": "execute_result",
          "data": {
            "text/plain": [
              "[0.22334037721157074, 0.9380000233650208]"
            ]
          },
          "metadata": {},
          "execution_count": 53
        }
      ]
    },
    {
      "cell_type": "markdown",
      "source": [
        "Test Accuracy of ANN Model is **93.72** %"
      ],
      "metadata": {
        "id": "2xHlSBpFNzN7"
      }
    },
    {
      "cell_type": "code",
      "source": [
        "# Predicting the probability of 5 samples randomly\n",
        "print(\"Probability of each number for image of testing data:- \\n\")\n",
        "for j in range(5):\n",
        "  idx = np.random.randint(0,10000,1)[0]\n",
        "  y_prob_lst = ckpt_model.predict(x_test[idx-1:idx]).round(3)[0]\n",
        "  print(\"\\nNumber : Probability\")\n",
        "  for i in range(10):\n",
        "    print(i,\" : \",y_prob_lst[i])\n",
        "  y_predict = np.argmax(y_prob_lst,axis=-1)\n",
        "  print(\"Predicted final output is: \",y_predict,\"\\n\")\n"
      ],
      "metadata": {
        "colab": {
          "base_uri": "https://localhost:8080/"
        },
        "id": "jQUq5jQkOE6u",
        "outputId": "61ce4b2d-f4cc-4c64-f69d-6cb9df10d07b"
      },
      "execution_count": null,
      "outputs": [
        {
          "output_type": "stream",
          "name": "stdout",
          "text": [
            "Probability of each number for image of testing data:- \n",
            "\n",
            "1/1 [==============================] - 0s 56ms/step\n",
            "\n",
            "Number : Probability\n",
            "0  :  0.0\n",
            "1  :  0.001\n",
            "2  :  0.005\n",
            "3  :  0.308\n",
            "4  :  0.291\n",
            "5  :  0.024\n",
            "6  :  0.0\n",
            "7  :  0.061\n",
            "8  :  0.019\n",
            "9  :  0.291\n",
            "Predicted final output is:  3 \n",
            "\n",
            "1/1 [==============================] - 0s 22ms/step\n",
            "\n",
            "Number : Probability\n",
            "0  :  1.0\n",
            "1  :  0.0\n",
            "2  :  0.0\n",
            "3  :  0.0\n",
            "4  :  0.0\n",
            "5  :  0.0\n",
            "6  :  0.0\n",
            "7  :  0.0\n",
            "8  :  0.0\n",
            "9  :  0.0\n",
            "Predicted final output is:  0 \n",
            "\n",
            "1/1 [==============================] - 0s 19ms/step\n",
            "\n",
            "Number : Probability\n",
            "0  :  0.0\n",
            "1  :  0.0\n",
            "2  :  0.0\n",
            "3  :  0.0\n",
            "4  :  0.0\n",
            "5  :  0.0\n",
            "6  :  0.0\n",
            "7  :  0.0\n",
            "8  :  1.0\n",
            "9  :  0.0\n",
            "Predicted final output is:  8 \n",
            "\n",
            "1/1 [==============================] - 0s 18ms/step\n",
            "\n",
            "Number : Probability\n",
            "0  :  0.0\n",
            "1  :  0.214\n",
            "2  :  0.65\n",
            "3  :  0.131\n",
            "4  :  0.0\n",
            "5  :  0.0\n",
            "6  :  0.001\n",
            "7  :  0.0\n",
            "8  :  0.003\n",
            "9  :  0.0\n",
            "Predicted final output is:  2 \n",
            "\n",
            "1/1 [==============================] - 0s 20ms/step\n",
            "\n",
            "Number : Probability\n",
            "0  :  0.973\n",
            "1  :  0.0\n",
            "2  :  0.001\n",
            "3  :  0.001\n",
            "4  :  0.0\n",
            "5  :  0.014\n",
            "6  :  0.011\n",
            "7  :  0.0\n",
            "8  :  0.0\n",
            "9  :  0.0\n",
            "Predicted final output is:  0 \n",
            "\n"
          ]
        }
      ]
    },
    {
      "cell_type": "markdown",
      "source": [
        "Implement batch normalization layers in the neural network and train the model again."
      ],
      "metadata": {
        "id": "ls4nRk_xTSLl"
      }
    },
    {
      "cell_type": "code",
      "source": [
        "# Added kernel regularization,batch normalization,dropout and leakyrelu activation function\n",
        "model = Sequential()\n",
        "model.add(Flatten(input_shape=[28,28]))\n",
        "model.add(Dense(units=256,kernel_regularizer=regularizers.L1L2(0.0001,0.0001)))\n",
        "model.add(BatchNormalization())\n",
        "model.add(LeakyReLU())\n",
        "model.add(Dropout(0.1))\n",
        "model.add(Dense(units=128,kernel_regularizer=regularizers.L1L2(0.0001,0.0001)))\n",
        "model.add(BatchNormalization())\n",
        "model.add(LeakyReLU())\n",
        "model.add(Dropout(0.1))\n",
        "model.add(Dense(units=64,kernel_regularizer=regularizers.L1L2(0.0001,0.0001)))\n",
        "model.add(BatchNormalization())\n",
        "model.add(LeakyReLU())\n",
        "model.add(Dropout(0.1))\n",
        "model.add(Dense(units=32,kernel_regularizer=regularizers.L1L2(0.0001,0.0001)))\n",
        "model.add(BatchNormalization())\n",
        "model.add(LeakyReLU())\n",
        "model.add(Dropout(0.1))\n",
        "model.add(Dense(units=16,kernel_regularizer=regularizers.L1L2(0.0001,0.0001)))\n",
        "model.add(BatchNormalization())\n",
        "model.add(LeakyReLU())\n",
        "model.add(Dropout(0.1))\n",
        "model.add(Dense(units=10,activation=\"softmax\"))"
      ],
      "metadata": {
        "id": "iCa2b__xTXde"
      },
      "execution_count": null,
      "outputs": []
    },
    {
      "cell_type": "code",
      "source": [
        "model.summary()\n"
      ],
      "metadata": {
        "colab": {
          "base_uri": "https://localhost:8080/"
        },
        "id": "iFd1HR5tTn0_",
        "outputId": "1bba300d-5968-4875-f529-da51510a3355"
      },
      "execution_count": null,
      "outputs": [
        {
          "output_type": "stream",
          "name": "stdout",
          "text": [
            "Model: \"sequential_3\"\n",
            "_________________________________________________________________\n",
            " Layer (type)                Output Shape              Param #   \n",
            "=================================================================\n",
            " flatten_1 (Flatten)         (None, 784)               0         \n",
            "                                                                 \n",
            " dense_6 (Dense)             (None, 256)               200960    \n",
            "                                                                 \n",
            " batch_normalization_5 (Bat  (None, 256)               1024      \n",
            " chNormalization)                                                \n",
            "                                                                 \n",
            " leaky_re_lu_5 (LeakyReLU)   (None, 256)               0         \n",
            "                                                                 \n",
            " dropout_5 (Dropout)         (None, 256)               0         \n",
            "                                                                 \n",
            " dense_7 (Dense)             (None, 128)               32896     \n",
            "                                                                 \n",
            " batch_normalization_6 (Bat  (None, 128)               512       \n",
            " chNormalization)                                                \n",
            "                                                                 \n",
            " leaky_re_lu_6 (LeakyReLU)   (None, 128)               0         \n",
            "                                                                 \n",
            " dropout_6 (Dropout)         (None, 128)               0         \n",
            "                                                                 \n",
            " dense_8 (Dense)             (None, 64)                8256      \n",
            "                                                                 \n",
            " batch_normalization_7 (Bat  (None, 64)                256       \n",
            " chNormalization)                                                \n",
            "                                                                 \n",
            " leaky_re_lu_7 (LeakyReLU)   (None, 64)                0         \n",
            "                                                                 \n",
            " dropout_7 (Dropout)         (None, 64)                0         \n",
            "                                                                 \n",
            " dense_9 (Dense)             (None, 32)                2080      \n",
            "                                                                 \n",
            " batch_normalization_8 (Bat  (None, 32)                128       \n",
            " chNormalization)                                                \n",
            "                                                                 \n",
            " leaky_re_lu_8 (LeakyReLU)   (None, 32)                0         \n",
            "                                                                 \n",
            " dropout_8 (Dropout)         (None, 32)                0         \n",
            "                                                                 \n",
            " dense_10 (Dense)            (None, 16)                528       \n",
            "                                                                 \n",
            " batch_normalization_9 (Bat  (None, 16)                64        \n",
            " chNormalization)                                                \n",
            "                                                                 \n",
            " leaky_re_lu_9 (LeakyReLU)   (None, 16)                0         \n",
            "                                                                 \n",
            " dropout_9 (Dropout)         (None, 16)                0         \n",
            "                                                                 \n",
            " dense_11 (Dense)            (None, 10)                170       \n",
            "                                                                 \n",
            "=================================================================\n",
            "Total params: 246874 (964.35 KB)\n",
            "Trainable params: 245882 (960.48 KB)\n",
            "Non-trainable params: 992 (3.88 KB)\n",
            "_________________________________________________________________\n"
          ]
        }
      ]
    },
    {
      "cell_type": "code",
      "source": [
        "def get_log_path(log_dir=\"logs/fit\"):\n",
        "  filename = time.strftime(\"2_log_%y_%m_%d_%H_%M_%S\")\n",
        "  logs_path = os.path.join(log_dir, filename)\n",
        "  print(f\"Saving logs at {logs_path}\")\n",
        "  return logs_path\n",
        "log_dirs = get_log_path()\n",
        "tb_cb = tf.keras.callbacks.TensorBoard(log_dir=log_dirs)\n",
        "early_stopping_cb = tf.keras.callbacks.EarlyStopping(patience=7, restore_best_weights=True)\n",
        "CKPT_path = os.path.join(\"Models\",\"Model_ckpt_Digit_mnist_2.h5\")\n",
        "checkpoint_cb = tf.keras.callbacks.ModelCheckpoint(CKPT_path, save_best_only=True)\n",
        "EPOCHS = 50\n",
        "VALIDATION_SET = (x_valid, y_valid)\n",
        "loss_function = \"sparse_categorical_crossentropy\"\n",
        "OPTIMIZER = tf.keras.optimizers.Adam(learning_rate=0.001)\n",
        "METRICS = [\"accuracy\"]\n",
        "model.compile(\n",
        " loss=loss_function,\n",
        " optimizer=OPTIMIZER,\n",
        " metrics=METRICS\n",
        ")\n",
        "history = model.fit(x_train, y_train, epochs=EPOCHS, validation_data=VALIDATION_SET, batch_size=64,\n",
        " callbacks=[tb_cb, early_stopping_cb, checkpoint_cb],use_multiprocessing=True)\n",
        "\n"
      ],
      "metadata": {
        "colab": {
          "base_uri": "https://localhost:8080/"
        },
        "id": "Jvu2hlksT7Hf",
        "outputId": "5dfa218c-323f-4dbe-d2c8-76b8597165d9"
      },
      "execution_count": null,
      "outputs": [
        {
          "output_type": "stream",
          "name": "stdout",
          "text": [
            "Saving logs at logs/fit/2_log_23_12_17_06_13_42\n",
            "Epoch 1/50\n",
            "860/860 [==============================] - 13s 9ms/step - loss: 1.1519 - accuracy: 0.8733 - val_loss: 0.6645 - val_accuracy: 0.9406\n",
            "Epoch 2/50\n",
            "860/860 [==============================] - 8s 10ms/step - loss: 0.6747 - accuracy: 0.9228 - val_loss: 0.5047 - val_accuracy: 0.9586\n",
            "Epoch 3/50\n",
            "860/860 [==============================] - 8s 10ms/step - loss: 0.5818 - accuracy: 0.9293 - val_loss: 0.4571 - val_accuracy: 0.9602\n",
            "Epoch 4/50\n",
            "860/860 [==============================] - 8s 9ms/step - loss: 0.5273 - accuracy: 0.9365 - val_loss: 0.4325 - val_accuracy: 0.9594\n",
            "Epoch 5/50\n",
            "860/860 [==============================] - 8s 10ms/step - loss: 0.4990 - accuracy: 0.9395 - val_loss: 0.4089 - val_accuracy: 0.9640\n",
            "Epoch 6/50\n",
            "860/860 [==============================] - 8s 9ms/step - loss: 0.4797 - accuracy: 0.9405 - val_loss: 0.3839 - val_accuracy: 0.9658\n",
            "Epoch 7/50\n",
            "860/860 [==============================] - 8s 9ms/step - loss: 0.4607 - accuracy: 0.9435 - val_loss: 0.3992 - val_accuracy: 0.9600\n",
            "Epoch 8/50\n",
            "860/860 [==============================] - 9s 10ms/step - loss: 0.4518 - accuracy: 0.9437 - val_loss: 0.3552 - val_accuracy: 0.9690\n",
            "Epoch 9/50\n",
            "860/860 [==============================] - 8s 9ms/step - loss: 0.4339 - accuracy: 0.9463 - val_loss: 0.3599 - val_accuracy: 0.9676\n",
            "Epoch 10/50\n",
            "860/860 [==============================] - 8s 10ms/step - loss: 0.4207 - accuracy: 0.9484 - val_loss: 0.3482 - val_accuracy: 0.9680\n",
            "Epoch 11/50\n",
            "860/860 [==============================] - 8s 10ms/step - loss: 0.4139 - accuracy: 0.9491 - val_loss: 0.3576 - val_accuracy: 0.9644\n",
            "Epoch 12/50\n",
            "860/860 [==============================] - 8s 9ms/step - loss: 0.4053 - accuracy: 0.9492 - val_loss: 0.3391 - val_accuracy: 0.9692\n",
            "Epoch 13/50\n",
            "860/860 [==============================] - 8s 10ms/step - loss: 0.3896 - accuracy: 0.9514 - val_loss: 0.3313 - val_accuracy: 0.9658\n",
            "Epoch 14/50\n",
            "860/860 [==============================] - 7s 9ms/step - loss: 0.3955 - accuracy: 0.9499 - val_loss: 0.3334 - val_accuracy: 0.9680\n",
            "Epoch 15/50\n",
            "860/860 [==============================] - 8s 10ms/step - loss: 0.3858 - accuracy: 0.9507 - val_loss: 0.3214 - val_accuracy: 0.9700\n",
            "Epoch 16/50\n",
            "860/860 [==============================] - 8s 10ms/step - loss: 0.3822 - accuracy: 0.9500 - val_loss: 0.3095 - val_accuracy: 0.9724\n",
            "Epoch 17/50\n",
            "860/860 [==============================] - 8s 9ms/step - loss: 0.3725 - accuracy: 0.9521 - val_loss: 0.3026 - val_accuracy: 0.9710\n",
            "Epoch 18/50\n",
            "860/860 [==============================] - 8s 10ms/step - loss: 0.3775 - accuracy: 0.9514 - val_loss: 0.3073 - val_accuracy: 0.9692\n",
            "Epoch 19/50\n",
            "860/860 [==============================] - 8s 9ms/step - loss: 0.3669 - accuracy: 0.9528 - val_loss: 0.3020 - val_accuracy: 0.9696\n",
            "Epoch 20/50\n",
            "860/860 [==============================] - 8s 9ms/step - loss: 0.3682 - accuracy: 0.9520 - val_loss: 0.3172 - val_accuracy: 0.9704\n",
            "Epoch 21/50\n",
            "860/860 [==============================] - 8s 10ms/step - loss: 0.3590 - accuracy: 0.9534 - val_loss: 0.2936 - val_accuracy: 0.9740\n",
            "Epoch 22/50\n",
            "860/860 [==============================] - 8s 9ms/step - loss: 0.3580 - accuracy: 0.9534 - val_loss: 0.2963 - val_accuracy: 0.9710\n",
            "Epoch 23/50\n",
            "860/860 [==============================] - 8s 10ms/step - loss: 0.3573 - accuracy: 0.9529 - val_loss: 0.2834 - val_accuracy: 0.9728\n",
            "Epoch 24/50\n",
            "860/860 [==============================] - 8s 9ms/step - loss: 0.3548 - accuracy: 0.9535 - val_loss: 0.2980 - val_accuracy: 0.9694\n",
            "Epoch 25/50\n",
            "860/860 [==============================] - 9s 10ms/step - loss: 0.3539 - accuracy: 0.9529 - val_loss: 0.3125 - val_accuracy: 0.9678\n",
            "Epoch 26/50\n",
            "860/860 [==============================] - 8s 10ms/step - loss: 0.3511 - accuracy: 0.9544 - val_loss: 0.2895 - val_accuracy: 0.9734\n",
            "Epoch 27/50\n",
            "860/860 [==============================] - 8s 9ms/step - loss: 0.3496 - accuracy: 0.9545 - val_loss: 0.2961 - val_accuracy: 0.9730\n",
            "Epoch 28/50\n",
            "860/860 [==============================] - 8s 9ms/step - loss: 0.3497 - accuracy: 0.9543 - val_loss: 0.3205 - val_accuracy: 0.9674\n",
            "Epoch 29/50\n",
            "860/860 [==============================] - 8s 10ms/step - loss: 0.3510 - accuracy: 0.9529 - val_loss: 0.2975 - val_accuracy: 0.9700\n",
            "Epoch 30/50\n",
            "860/860 [==============================] - 8s 9ms/step - loss: 0.3415 - accuracy: 0.9562 - val_loss: 0.2863 - val_accuracy: 0.9722\n"
          ]
        }
      ]
    },
    {
      "cell_type": "code",
      "source": [
        "ckpt_model = tf.keras.models.load_model(CKPT_path)\n",
        "ckpt_model.evaluate(x_test,y_test)"
      ],
      "metadata": {
        "colab": {
          "base_uri": "https://localhost:8080/"
        },
        "id": "jGQ6jG8wT8vA",
        "outputId": "d4422975-6229-4b5c-ec8c-4f2e03789879"
      },
      "execution_count": null,
      "outputs": [
        {
          "output_type": "stream",
          "name": "stdout",
          "text": [
            "313/313 [==============================] - 1s 3ms/step - loss: 0.2881 - accuracy: 0.9732\n"
          ]
        },
        {
          "output_type": "execute_result",
          "data": {
            "text/plain": [
              "[0.28808528184890747, 0.9732000231742859]"
            ]
          },
          "metadata": {},
          "execution_count": 58
        }
      ]
    },
    {
      "cell_type": "markdown",
      "source": [
        "Compare the training and validation performance (e.g., accuracy, loss) between the models with and\n",
        "without batch normalization."
      ],
      "metadata": {
        "id": "NGCPAXfdXhlb"
      }
    },
    {
      "cell_type": "code",
      "source": [
        "\n",
        "pd.DataFrame(history.history).plot()\n"
      ],
      "metadata": {
        "colab": {
          "base_uri": "https://localhost:8080/",
          "height": 447
        },
        "id": "9DZjDM95XJQz",
        "outputId": "e37d3d16-ef05-446b-b468-7746a48f2304"
      },
      "execution_count": null,
      "outputs": [
        {
          "output_type": "execute_result",
          "data": {
            "text/plain": [
              "<Axes: >"
            ]
          },
          "metadata": {},
          "execution_count": 59
        },
        {
          "output_type": "display_data",
          "data": {
            "text/plain": [
              "<Figure size 640x480 with 1 Axes>"
            ],
            "image/png": "[encoded data removed]"
          },
          "metadata": {}
        }
      ]
    },
    {
      "cell_type": "code",
      "source": [
        "## Model Performance Before Normalisation\n",
        "ckpt_model = tf.keras.models.load_model(CKPT_path_BN) # Loading model\n",
        "ckpt_model.evaluate(x_test,y_test) # Evaluating the performance of the model on test data"
      ],
      "metadata": {
        "colab": {
          "base_uri": "https://localhost:8080/"
        },
        "id": "7RlPcOuIYcMr",
        "outputId": "40052ab7-326e-42b1-ac21-865ee42cee77"
      },
      "execution_count": null,
      "outputs": [
        {
          "output_type": "stream",
          "name": "stdout",
          "text": [
            "313/313 [==============================] - 1s 2ms/step - loss: 0.2233 - accuracy: 0.9380\n"
          ]
        },
        {
          "output_type": "execute_result",
          "data": {
            "text/plain": [
              "[0.22334037721157074, 0.9380000233650208]"
            ]
          },
          "metadata": {},
          "execution_count": 60
        }
      ]
    },
    {
      "cell_type": "markdown",
      "source": [
        "So, Accuracy before Normalisation is 93.8 %"
      ],
      "metadata": {
        "id": "00Zqj1AVcGvW"
      }
    },
    {
      "cell_type": "code",
      "source": [
        "## Model Performance after Normalisation\n",
        "ckpt_model = tf.keras.models.load_model(CKPT_path)\n",
        "ckpt_model.evaluate(x_test,y_test)"
      ],
      "metadata": {
        "colab": {
          "base_uri": "https://localhost:8080/"
        },
        "id": "YRSVPGurY1M3",
        "outputId": "5ce363c5-f18c-4087-9342-201780d18143"
      },
      "execution_count": null,
      "outputs": [
        {
          "output_type": "stream",
          "name": "stdout",
          "text": [
            "313/313 [==============================] - 1s 3ms/step - loss: 0.2881 - accuracy: 0.9732\n"
          ]
        },
        {
          "output_type": "execute_result",
          "data": {
            "text/plain": [
              "[0.28808528184890747, 0.9732000231742859]"
            ]
          },
          "metadata": {},
          "execution_count": 61
        }
      ]
    },
    {
      "cell_type": "markdown",
      "source": [
        "So, Accuracy after Batch Normalisation is 97.3 %"
      ],
      "metadata": {
        "id": "n6iyunOkcYUa"
      }
    },
    {
      "cell_type": "markdown",
      "source": [
        "Discuss the impact of batch normalization on the training process and the performance of the neural\n",
        "network."
      ],
      "metadata": {
        "id": "EanX5AzadI0-"
      }
    },
    {
      "cell_type": "markdown",
      "source": [
        "Batch Normalization (BN) is a technique in deep learning that has had a significant impact on the training process and performance of neural networks. Introduced by Sergey Ioffe and Christian Szegedy in 2015, BN has become a standard component in many modern neural network architectures. Here are some key aspects of the impact of batch normalization:\n",
        "\n",
        "1. **Accelerated Training Convergence:**\n",
        "   - BN helps in reducing internal covariate shift, which is the change in the distribution of the inputs to a neural network's layers during training. By normalizing the inputs in each mini-batch, BN stabilizes and speeds up the training process. Networks with BN tend to converge faster compared to those without it.\n",
        "\n",
        "2. **Increased Learning Rates:**\n",
        "   - Batch Normalization allows for the use of higher learning rates during training. This is because it mitigates the risk of exploding or vanishing gradients, which can occur when learning rates are too high or too low. Higher learning rates can lead to faster convergence and improved generalization.\n",
        "\n",
        "3. **Reduced Sensitivity to Weight Initialization:**\n",
        "   - Neural networks are sensitive to the choice of initial weights. Batch Normalization reduces this sensitivity by normalizing the inputs, making the network less dependent on the choice of initial weights. This allows for more flexibility in choosing initialization schemes.\n",
        "\n",
        "4. **Regularization Effect:**\n",
        "   - Batch Normalization has a slight regularization effect, reducing the need for other regularization techniques like dropout. This is because BN introduces noise during training due to the mini-batch statistics, which can act as a form of regularization and improve the generalization of the model.\n",
        "\n",
        "5. **Mitigation of Vanishing/Exploding Gradients:**\n",
        "   - By normalizing the inputs, BN helps mitigate the vanishing and exploding gradient problems. This is particularly important in deep networks where gradients can diminish or explode as they propagate through many layers. BN ensures that the activations stay within a reasonable range.\n",
        "\n",
        "6. **Applicability to Various Architectures:**\n",
        "   - Batch Normalization is applicable to various types of neural network architectures, including feedforward networks, convolutional neural networks (CNNs), and recurrent neural networks (RNNs). Its versatility has contributed to its widespread adoption across different domains.\n",
        "\n",
        "7. **Improved Robustness to Hyperparameter Choices:**\n",
        "   - BN makes neural networks less sensitive to hyperparameter choices, such as learning rate and weight initialization. This makes it easier for practitioners to experiment with different hyperparameters without risking the stability of the training process.\n",
        "\n",
        "Despite its many advantages, it's worth noting that batch normalization has some drawbacks, such as its dependence on mini-batch statistics during training and potential issues in certain scenarios like small batch sizes. These challenges have led to the development of variations such as Layer Normalization and Group Normalization, which aim to address some of the limitations of batch normalization in specific situations."
      ],
      "metadata": {
        "id": "QRahzAtLdz2v"
      }
    },
    {
      "cell_type": "markdown",
      "source": [
        "Q3. Experimentation and analysis."
      ],
      "metadata": {
        "id": "8YLj-Tond9x-"
      }
    },
    {
      "cell_type": "markdown",
      "source": [
        "Experiment with different batch sizes and observe the effect on the training dynamics and model\n",
        "performance."
      ],
      "metadata": {
        "id": "gydTX49LfDEa"
      }
    },
    {
      "cell_type": "code",
      "source": [
        "## For Batch Size = 50\n",
        "def get_log_path(log_dir=\"logs/fit\"):\n",
        "  filename = time.strftime(\"3_log_%y_%m_%d_%H_%M_%S\")\n",
        "  logs_path = os.path.join(log_dir, filename)\n",
        "  print(f\"Saving logs at {logs_path}\")\n",
        "  return logs_path\n",
        "log_dirs = get_log_path()\n",
        "tb_cb = tf.keras.callbacks.TensorBoard(log_dir=log_dirs)\n",
        "early_stopping_cb = tf.keras.callbacks.EarlyStopping(patience=7, restore_best_weights=True)\n",
        "CKPT_path = os.path.join(\"Models\",\"Model_ckpt_Digit_mnist_2.h5\")\n",
        "checkpoint_cb = tf.keras.callbacks.ModelCheckpoint(CKPT_path, save_best_only=True)\n",
        "EPOCHS = 50\n",
        "VALIDATION_SET = (x_valid, y_valid)\n",
        "loss_function = \"sparse_categorical_crossentropy\"\n",
        "OPTIMIZER = tf.keras.optimizers.Adam(learning_rate=0.001)\n",
        "METRICS = [\"accuracy\"]\n",
        "model.compile(\n",
        " loss=loss_function,\n",
        " optimizer=OPTIMIZER,\n",
        " metrics=METRICS\n",
        ")\n",
        "history = model.fit(x_train, y_train, epochs=EPOCHS, validation_data=VALIDATION_SET, batch_size=50,\n",
        " callbacks=[tb_cb, early_stopping_cb, checkpoint_cb],use_multiprocessing=True)\n"
      ],
      "metadata": {
        "colab": {
          "base_uri": "https://localhost:8080/"
        },
        "id": "JanzuYqxfGFQ",
        "outputId": "f9b7e22c-98c7-4d25-a9b6-628d02e08491"
      },
      "execution_count": null,
      "outputs": [
        {
          "output_type": "stream",
          "name": "stdout",
          "text": [
            "Saving logs at logs/fit/3_log_23_12_17_06_38_19\n",
            "Epoch 1/50\n",
            "1100/1100 [==============================] - 14s 8ms/step - loss: 0.3804 - accuracy: 0.9482 - val_loss: 0.2976 - val_accuracy: 0.9734\n",
            "Epoch 2/50\n",
            "1100/1100 [==============================] - 9s 8ms/step - loss: 0.3760 - accuracy: 0.9497 - val_loss: 0.2984 - val_accuracy: 0.9730\n",
            "Epoch 3/50\n",
            "1100/1100 [==============================] - 8s 8ms/step - loss: 0.3756 - accuracy: 0.9495 - val_loss: 0.3080 - val_accuracy: 0.9692\n",
            "Epoch 4/50\n",
            "1100/1100 [==============================] - 8s 7ms/step - loss: 0.3728 - accuracy: 0.9495 - val_loss: 0.2869 - val_accuracy: 0.9766\n",
            "Epoch 5/50\n",
            "1100/1100 [==============================] - 9s 8ms/step - loss: 0.3697 - accuracy: 0.9496 - val_loss: 0.3131 - val_accuracy: 0.9690\n",
            "Epoch 6/50\n",
            "1100/1100 [==============================] - 8s 7ms/step - loss: 0.3717 - accuracy: 0.9494 - val_loss: 0.3133 - val_accuracy: 0.9662\n",
            "Epoch 7/50\n",
            "1100/1100 [==============================] - 9s 8ms/step - loss: 0.3732 - accuracy: 0.9497 - val_loss: 0.3123 - val_accuracy: 0.9686\n",
            "Epoch 8/50\n",
            "1100/1100 [==============================] - 10s 9ms/step - loss: 0.3667 - accuracy: 0.9507 - val_loss: 0.2910 - val_accuracy: 0.9728\n",
            "Epoch 9/50\n",
            "1100/1100 [==============================] - 8s 7ms/step - loss: 0.3640 - accuracy: 0.9515 - val_loss: 0.2996 - val_accuracy: 0.9690\n",
            "Epoch 10/50\n",
            "1100/1100 [==============================] - 8s 8ms/step - loss: 0.3669 - accuracy: 0.9499 - val_loss: 0.2902 - val_accuracy: 0.9716\n",
            "Epoch 11/50\n",
            "1100/1100 [==============================] - 9s 8ms/step - loss: 0.3620 - accuracy: 0.9518 - val_loss: 0.2895 - val_accuracy: 0.9734\n"
          ]
        }
      ]
    },
    {
      "cell_type": "code",
      "source": [
        "## Model Performance after Normalisation\n",
        "ckpt_model = tf.keras.models.load_model(CKPT_path)\n",
        "ckpt_model.evaluate(x_test,y_test)"
      ],
      "metadata": {
        "colab": {
          "base_uri": "https://localhost:8080/"
        },
        "id": "n10LamiWg8ad",
        "outputId": "d4c64022-f246-401d-861d-772895de3a4f"
      },
      "execution_count": null,
      "outputs": [
        {
          "output_type": "stream",
          "name": "stdout",
          "text": [
            "313/313 [==============================] - 1s 3ms/step - loss: 0.2902 - accuracy: 0.9745\n"
          ]
        },
        {
          "output_type": "execute_result",
          "data": {
            "text/plain": [
              "[0.29024964570999146, 0.9745000004768372]"
            ]
          },
          "metadata": {},
          "execution_count": 64
        }
      ]
    },
    {
      "cell_type": "markdown",
      "source": [
        "So, from above accuracy is 97.45 for Batch Size 50"
      ],
      "metadata": {
        "id": "8T9EtltOhGg3"
      }
    },
    {
      "cell_type": "code",
      "source": [
        "## For Batch Size = 100\n",
        "def get_log_path(log_dir=\"logs/fit\"):\n",
        "  filename = time.strftime(\"3_log_%y_%m_%d_%H_%M_%S\")\n",
        "  logs_path = os.path.join(log_dir, filename)\n",
        "  print(f\"Saving logs at {logs_path}\")\n",
        "  return logs_path\n",
        "log_dirs = get_log_path()\n",
        "tb_cb = tf.keras.callbacks.TensorBoard(log_dir=log_dirs)\n",
        "early_stopping_cb = tf.keras.callbacks.EarlyStopping(patience=7, restore_best_weights=True)\n",
        "CKPT_path = os.path.join(\"Models\",\"Model_ckpt_Digit_mnist_2.h5\")\n",
        "checkpoint_cb = tf.keras.callbacks.ModelCheckpoint(CKPT_path, save_best_only=True)\n",
        "EPOCHS = 50\n",
        "VALIDATION_SET = (x_valid, y_valid)\n",
        "loss_function = \"sparse_categorical_crossentropy\"\n",
        "OPTIMIZER = tf.keras.optimizers.Adam(learning_rate=0.001)\n",
        "METRICS = [\"accuracy\"]\n",
        "model.compile(\n",
        " loss=loss_function,\n",
        " optimizer=OPTIMIZER,\n",
        " metrics=METRICS\n",
        ")\n",
        "history = model.fit(x_train, y_train, epochs=EPOCHS, validation_data=VALIDATION_SET, batch_size=100,\n",
        " callbacks=[tb_cb, early_stopping_cb, checkpoint_cb],use_multiprocessing=True)"
      ],
      "metadata": {
        "colab": {
          "base_uri": "https://localhost:8080/"
        },
        "id": "A3bCHOmKhSYI",
        "outputId": "f66e5e10-0971-4e72-e472-9318df6a704f"
      },
      "execution_count": null,
      "outputs": [
        {
          "output_type": "stream",
          "name": "stdout",
          "text": [
            "Saving logs at logs/fit/3_log_23_12_17_06_45_32\n",
            "Epoch 1/50\n",
            "550/550 [==============================] - 8s 8ms/step - loss: 0.3167 - accuracy: 0.9626 - val_loss: 0.2690 - val_accuracy: 0.9750\n",
            "Epoch 2/50\n",
            "550/550 [==============================] - 5s 8ms/step - loss: 0.3119 - accuracy: 0.9613 - val_loss: 0.2596 - val_accuracy: 0.9764\n",
            "Epoch 3/50\n",
            "550/550 [==============================] - 6s 10ms/step - loss: 0.3119 - accuracy: 0.9594 - val_loss: 0.2613 - val_accuracy: 0.9760\n",
            "Epoch 4/50\n",
            "550/550 [==============================] - 4s 7ms/step - loss: 0.3040 - accuracy: 0.9624 - val_loss: 0.2580 - val_accuracy: 0.9740\n",
            "Epoch 5/50\n",
            "550/550 [==============================] - 5s 8ms/step - loss: 0.3050 - accuracy: 0.9613 - val_loss: 0.2624 - val_accuracy: 0.9732\n",
            "Epoch 6/50\n",
            "550/550 [==============================] - 4s 7ms/step - loss: 0.3045 - accuracy: 0.9604 - val_loss: 0.2818 - val_accuracy: 0.9674\n",
            "Epoch 7/50\n",
            "550/550 [==============================] - 4s 7ms/step - loss: 0.3019 - accuracy: 0.9605 - val_loss: 0.2738 - val_accuracy: 0.9708\n",
            "Epoch 8/50\n",
            "550/550 [==============================] - 5s 8ms/step - loss: 0.2983 - accuracy: 0.9615 - val_loss: 0.2706 - val_accuracy: 0.9694\n",
            "Epoch 9/50\n",
            "550/550 [==============================] - 4s 8ms/step - loss: 0.3004 - accuracy: 0.9610 - val_loss: 0.2691 - val_accuracy: 0.9724\n",
            "Epoch 10/50\n",
            "550/550 [==============================] - 4s 7ms/step - loss: 0.2948 - accuracy: 0.9618 - val_loss: 0.2653 - val_accuracy: 0.9716\n",
            "Epoch 11/50\n",
            "550/550 [==============================] - 5s 8ms/step - loss: 0.2973 - accuracy: 0.9612 - val_loss: 0.2651 - val_accuracy: 0.9718\n"
          ]
        }
      ]
    },
    {
      "cell_type": "code",
      "source": [
        "## Model Performance after Normalisation\n",
        "ckpt_model = tf.keras.models.load_model(CKPT_path)\n",
        "ckpt_model.evaluate(x_test,y_test)"
      ],
      "metadata": {
        "colab": {
          "base_uri": "https://localhost:8080/"
        },
        "id": "PPMVQlcpiAiU",
        "outputId": "48c8dc51-1bef-4f56-b15d-2e5f4000f1c3"
      },
      "execution_count": null,
      "outputs": [
        {
          "output_type": "stream",
          "name": "stdout",
          "text": [
            "313/313 [==============================] - 1s 3ms/step - loss: 0.2599 - accuracy: 0.9744\n"
          ]
        },
        {
          "output_type": "execute_result",
          "data": {
            "text/plain": [
              "[0.25992047786712646, 0.974399983882904]"
            ]
          },
          "metadata": {},
          "execution_count": 66
        }
      ]
    },
    {
      "cell_type": "markdown",
      "source": [
        "So, For Batch Size 100 Accuracy is 97.44 %"
      ],
      "metadata": {
        "id": "AQgkjPJ3iovr"
      }
    },
    {
      "cell_type": "code",
      "source": [
        "## For Batch Size = 500\n",
        "def get_log_path(log_dir=\"logs/fit\"):\n",
        "  filename = time.strftime(\"3_log_%y_%m_%d_%H_%M_%S\")\n",
        "  logs_path = os.path.join(log_dir, filename)\n",
        "  print(f\"Saving logs at {logs_path}\")\n",
        "  return logs_path\n",
        "log_dirs = get_log_path()\n",
        "tb_cb = tf.keras.callbacks.TensorBoard(log_dir=log_dirs)\n",
        "early_stopping_cb = tf.keras.callbacks.EarlyStopping(patience=7, restore_best_weights=True)\n",
        "CKPT_path = os.path.join(\"Models\",\"Model_ckpt_Digit_mnist_2.h5\")\n",
        "checkpoint_cb = tf.keras.callbacks.ModelCheckpoint(CKPT_path, save_best_only=True)\n",
        "EPOCHS = 50\n",
        "VALIDATION_SET = (x_valid, y_valid)\n",
        "loss_function = \"sparse_categorical_crossentropy\"\n",
        "OPTIMIZER = tf.keras.optimizers.Adam(learning_rate=0.001)\n",
        "METRICS = [\"accuracy\"]\n",
        "model.compile(\n",
        " loss=loss_function,\n",
        " optimizer=OPTIMIZER,\n",
        " metrics=METRICS\n",
        ")\n",
        "history = model.fit(x_train, y_train, epochs=EPOCHS, validation_data=VALIDATION_SET, batch_size=500,\n",
        " callbacks=[tb_cb, early_stopping_cb, checkpoint_cb],use_multiprocessing=True)"
      ],
      "metadata": {
        "colab": {
          "base_uri": "https://localhost:8080/"
        },
        "id": "TLQYx4q0ipPJ",
        "outputId": "7ffcc837-c0b1-4bd7-a299-c30cf89a232b"
      },
      "execution_count": null,
      "outputs": [
        {
          "output_type": "stream",
          "name": "stdout",
          "text": [
            "Saving logs at logs/fit/3_log_23_12_17_06_51_01\n",
            "Epoch 1/50\n",
            "110/110 [==============================] - 5s 12ms/step - loss: 0.2462 - accuracy: 0.9739 - val_loss: 0.2146 - val_accuracy: 0.9800\n",
            "Epoch 2/50\n",
            "110/110 [==============================] - 1s 9ms/step - loss: 0.2221 - accuracy: 0.9761 - val_loss: 0.2060 - val_accuracy: 0.9802\n",
            "Epoch 3/50\n",
            "110/110 [==============================] - 1s 8ms/step - loss: 0.2227 - accuracy: 0.9749 - val_loss: 0.2090 - val_accuracy: 0.9802\n",
            "Epoch 4/50\n",
            "110/110 [==============================] - 1s 8ms/step - loss: 0.2207 - accuracy: 0.9750 - val_loss: 0.2109 - val_accuracy: 0.9768\n",
            "Epoch 5/50\n",
            "110/110 [==============================] - 1s 13ms/step - loss: 0.2165 - accuracy: 0.9751 - val_loss: 0.2087 - val_accuracy: 0.9764\n",
            "Epoch 6/50\n",
            "110/110 [==============================] - 2s 18ms/step - loss: 0.2129 - accuracy: 0.9756 - val_loss: 0.1962 - val_accuracy: 0.9806\n",
            "Epoch 7/50\n",
            "110/110 [==============================] - 2s 15ms/step - loss: 0.2148 - accuracy: 0.9748 - val_loss: 0.2005 - val_accuracy: 0.9796\n",
            "Epoch 8/50\n",
            "110/110 [==============================] - 1s 11ms/step - loss: 0.2125 - accuracy: 0.9746 - val_loss: 0.1987 - val_accuracy: 0.9790\n",
            "Epoch 9/50\n",
            "110/110 [==============================] - 1s 12ms/step - loss: 0.2072 - accuracy: 0.9753 - val_loss: 0.2034 - val_accuracy: 0.9752\n",
            "Epoch 10/50\n",
            "110/110 [==============================] - 2s 15ms/step - loss: 0.2124 - accuracy: 0.9743 - val_loss: 0.1936 - val_accuracy: 0.9798\n",
            "Epoch 11/50\n",
            "110/110 [==============================] - 2s 15ms/step - loss: 0.2057 - accuracy: 0.9751 - val_loss: 0.1914 - val_accuracy: 0.9804\n",
            "Epoch 12/50\n",
            "110/110 [==============================] - 1s 10ms/step - loss: 0.2040 - accuracy: 0.9756 - val_loss: 0.2117 - val_accuracy: 0.9758\n",
            "Epoch 13/50\n",
            "110/110 [==============================] - 1s 12ms/step - loss: 0.2085 - accuracy: 0.9740 - val_loss: 0.1998 - val_accuracy: 0.9778\n",
            "Epoch 14/50\n",
            "110/110 [==============================] - 1s 13ms/step - loss: 0.2041 - accuracy: 0.9758 - val_loss: 0.2004 - val_accuracy: 0.9774\n",
            "Epoch 15/50\n",
            "110/110 [==============================] - 2s 17ms/step - loss: 0.2057 - accuracy: 0.9749 - val_loss: 0.1910 - val_accuracy: 0.9786\n",
            "Epoch 16/50\n",
            "110/110 [==============================] - 2s 16ms/step - loss: 0.2005 - accuracy: 0.9759 - val_loss: 0.1930 - val_accuracy: 0.9784\n",
            "Epoch 17/50\n",
            "110/110 [==============================] - 1s 12ms/step - loss: 0.2051 - accuracy: 0.9739 - val_loss: 0.1935 - val_accuracy: 0.9784\n",
            "Epoch 18/50\n",
            "110/110 [==============================] - 1s 10ms/step - loss: 0.2017 - accuracy: 0.9760 - val_loss: 0.1965 - val_accuracy: 0.9774\n",
            "Epoch 19/50\n",
            "110/110 [==============================] - 1s 8ms/step - loss: 0.1984 - accuracy: 0.9753 - val_loss: 0.1953 - val_accuracy: 0.9794\n",
            "Epoch 20/50\n",
            "110/110 [==============================] - 1s 9ms/step - loss: 0.1993 - accuracy: 0.9756 - val_loss: 0.1904 - val_accuracy: 0.9798\n",
            "Epoch 21/50\n",
            "110/110 [==============================] - 1s 8ms/step - loss: 0.2018 - accuracy: 0.9749 - val_loss: 0.1951 - val_accuracy: 0.9782\n",
            "Epoch 22/50\n",
            "110/110 [==============================] - 1s 10ms/step - loss: 0.1989 - accuracy: 0.9752 - val_loss: 0.1973 - val_accuracy: 0.9758\n",
            "Epoch 23/50\n",
            "110/110 [==============================] - 1s 12ms/step - loss: 0.1984 - accuracy: 0.9759 - val_loss: 0.1936 - val_accuracy: 0.9778\n",
            "Epoch 24/50\n",
            "110/110 [==============================] - 1s 11ms/step - loss: 0.1953 - accuracy: 0.9759 - val_loss: 0.1996 - val_accuracy: 0.9780\n",
            "Epoch 25/50\n",
            "110/110 [==============================] - 2s 21ms/step - loss: 0.1977 - accuracy: 0.9758 - val_loss: 0.1958 - val_accuracy: 0.9772\n",
            "Epoch 26/50\n",
            "110/110 [==============================] - 3s 24ms/step - loss: 0.1988 - accuracy: 0.9755 - val_loss: 0.2033 - val_accuracy: 0.9744\n",
            "Epoch 27/50\n",
            "110/110 [==============================] - 2s 17ms/step - loss: 0.1984 - accuracy: 0.9755 - val_loss: 0.2075 - val_accuracy: 0.9738\n"
          ]
        }
      ]
    },
    {
      "cell_type": "code",
      "source": [
        "## Model Performance after Normalisation\n",
        "ckpt_model = tf.keras.models.load_model(CKPT_path)\n",
        "ckpt_model.evaluate(x_test,y_test)"
      ],
      "metadata": {
        "colab": {
          "base_uri": "https://localhost:8080/"
        },
        "id": "uekyEnfGjEJM",
        "outputId": "96117361-0221-4140-a864-7ec5cfcfc7b9"
      },
      "execution_count": null,
      "outputs": [
        {
          "output_type": "stream",
          "name": "stdout",
          "text": [
            "313/313 [==============================] - 1s 3ms/step - loss: 0.1938 - accuracy: 0.9757\n"
          ]
        },
        {
          "output_type": "execute_result",
          "data": {
            "text/plain": [
              "[0.19379045069217682, 0.9757000207901001]"
            ]
          },
          "metadata": {},
          "execution_count": 68
        }
      ]
    },
    {
      "cell_type": "markdown",
      "source": [
        "So, The accuracy for Batch 500 is 97.57 %"
      ],
      "metadata": {
        "id": "1YFTwRzmkUE1"
      }
    },
    {
      "cell_type": "markdown",
      "source": [
        "Discuss the advantages and potential limitations of batch normalization in improving the training of\n",
        "neural networks."
      ],
      "metadata": {
        "id": "8lxWJLKrlQak"
      }
    },
    {
      "cell_type": "markdown",
      "source": [
        "### Advantages of Batch Normalization:\n",
        "\n",
        "1. **Stabilizes and Accelerates Training:**\n",
        "   - Batch Normalization significantly reduces the internal covariate shift by normalizing the inputs in each mini-batch. This stabilization leads to faster convergence during training, as the optimization process is less hindered by changing input distributions.\n",
        "\n",
        "2. **Allows for Higher Learning Rates:**\n",
        "   - BN mitigates the risk of exploding or vanishing gradients, allowing for the use of higher learning rates. This, in turn, accelerates the training process and can lead to better convergence.\n",
        "\n",
        "3. **Reduces Sensitivity to Weight Initialization:**\n",
        "   - Neural networks are often sensitive to the choice of initial weights. Batch Normalization helps alleviate this sensitivity, making it easier to train deep networks with a wider range of weight initializations.\n",
        "\n",
        "4. **Acts as a Regularization Technique:**\n",
        "   - Batch Normalization introduces a slight noise during training due to the mini-batch statistics. This acts as a form of regularization, reducing the need for other regularization techniques like dropout and contributing to better generalization.\n",
        "\n",
        "5. **Adaptable to Different Network Architectures:**\n",
        "   - Batch Normalization is applicable to various neural network architectures, including feedforward networks, convolutional neural networks (CNNs), and recurrent neural networks (RNNs). Its versatility has contributed to its widespread adoption.\n",
        "\n",
        "6. **Reduces Dependency on Hyperparameter Choices:**\n",
        "   - BN makes neural networks less sensitive to certain hyperparameter choices, such as learning rate and weight initialization. This flexibility allows practitioners to experiment with hyperparameters more freely.\n",
        "\n",
        "### Limitations and Challenges of Batch Normalization:\n",
        "\n",
        "1. **Dependency on Mini-Batch Statistics:**\n",
        "   - Batch Normalization relies on statistics computed from the mini-batch during training. In situations with very small batch sizes, these statistics may not accurately represent the entire dataset, leading to suboptimal performance.\n",
        "\n",
        "2. **Incompatibility with Online Learning:**\n",
        "   - BN is designed for batch learning and might not be suitable for online learning scenarios where data arrives sequentially. This is because it requires statistics calculated over the entire mini-batch.\n",
        "\n",
        "3. **Effectiveness May Diminish with Small Batch Sizes:**\n",
        "   - In practice, Batch Normalization's effectiveness can diminish with very small batch sizes. It may not provide as much benefit in scenarios where the mini-batch statistics have high variance.\n",
        "\n",
        "4. **Not Always Beneficial in Recurrent Networks:**\n",
        "   - While Batch Normalization is effective in many types of networks, its application in recurrent neural networks (RNNs) can be more challenging. It may disrupt the learning dynamics of recurrent connections and is often replaced by alternatives like Layer Normalization in RNNs.\n",
        "\n",
        "5. **Additional Computational Overhead:**\n",
        "   - Batch Normalization introduces extra computations during both training and inference, which can impact the overall efficiency of the network. This might be a consideration in resource-constrained environments.\n",
        "\n",
        "6. **Normalization During Inference:**\n",
        "   - During inference, the normalization parameters need to be applied to individual examples, which may require maintaining running averages. This introduces a slight discrepancy between training and inference, and in certain cases, this mismatch might affect performance.\n",
        "\n",
        "7. **Sensitivity to Learning Rate:**\n",
        "   - Batch Normalization can be sensitive to the choice of learning rate. Extremely high learning rates may lead to unstable training dynamics, and finding the right learning rate can require some experimentation.\n",
        "\n",
        "Despite these limitations, Batch Normalization remains a powerful and widely used technique in deep learning. Researchers have proposed variations, such as Layer Normalization and Group Normalization, to address some of these challenges in specific contexts. Additionally, ongoing research aims to improve the understanding of the factors influencing the effectiveness of normalization techniques in different scenarios."
      ],
      "metadata": {
        "id": "n1EpgwoElcBI"
      }
    },
    {
      "cell_type": "code",
      "source": [],
      "metadata": {
        "id": "NxKTOS7-lc0-"
      },
      "execution_count": null,
      "outputs": []
    }
  ],
  "metadata": {
    "colab": {
      "provenance": [],
      "gpuType": "T4",
      "authorship_tag": "ABX9TyN20U7zftjWzFLPs5kQNNZX",
      "include_colab_link": true
    },
    "kernelspec": {
      "display_name": "Python 3",
      "name": "python3"
    },
    "language_info": {
      "name": "python"
    },
    "accelerator": "GPU"
  },
  "nbformat": 4,
  "nbformat_minor": 0
}